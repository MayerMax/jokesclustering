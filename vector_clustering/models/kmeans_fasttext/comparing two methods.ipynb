{
 "cells": [
  {
   "cell_type": "code",
   "execution_count": 1,
   "metadata": {},
   "outputs": [],
   "source": [
    "import sys\n",
    "import pandas as pd\n",
    "sys.path.append('D:/research/jokesclustering/') # ваш путь до корня проекта\n",
    "from components import FasttextVectorizer, KmeansSimpleClusterExtractor\n",
    "from components_simple_norm import SimpleNormVectorizer\n",
    "from vector_clustering.abstract.model import Model\n",
    "from vector_clustering.data.manager import get_jokes_as_dataframe, load_pandas_csv, load, ARANEUM_FASTTEXT\n",
    "from sklearn.cluster import KMeans"
   ]
  },
  {
   "cell_type": "code",
   "execution_count": 2,
   "metadata": {},
   "outputs": [
    {
     "data": {
      "text/html": [
       "<div>\n",
       "<style scoped>\n",
       "    .dataframe tbody tr th:only-of-type {\n",
       "        vertical-align: middle;\n",
       "    }\n",
       "\n",
       "    .dataframe tbody tr th {\n",
       "        vertical-align: top;\n",
       "    }\n",
       "\n",
       "    .dataframe thead th {\n",
       "        text-align: right;\n",
       "    }\n",
       "</style>\n",
       "<table border=\"1\" class=\"dataframe\">\n",
       "  <thead>\n",
       "    <tr style=\"text-align: right;\">\n",
       "      <th></th>\n",
       "      <th>joke_text</th>\n",
       "    </tr>\n",
       "  </thead>\n",
       "  <tbody>\n",
       "    <tr>\n",
       "      <th>0</th>\n",
       "      <td>Мужчину трудно задеть за живое, но уж если зад...</td>\n",
       "    </tr>\n",
       "    <tr>\n",
       "      <th>1</th>\n",
       "      <td>В нашем кемпинге строго запрещено людям разног...</td>\n",
       "    </tr>\n",
       "    <tr>\n",
       "      <th>2</th>\n",
       "      <td>А как хорошо у девушек начинается: любимый: ми...</td>\n",
       "    </tr>\n",
       "    <tr>\n",
       "      <th>3</th>\n",
       "      <td>Только у нас фраза \"поправить здоровье\" означа...</td>\n",
       "    </tr>\n",
       "    <tr>\n",
       "      <th>4</th>\n",
       "      <td>Одна белка случайно попробовала пиво и поняла,...</td>\n",
       "    </tr>\n",
       "  </tbody>\n",
       "</table>\n",
       "</div>"
      ],
      "text/plain": [
       "                                           joke_text\n",
       "0  Мужчину трудно задеть за живое, но уж если зад...\n",
       "1  В нашем кемпинге строго запрещено людям разног...\n",
       "2  А как хорошо у девушек начинается: любимый: ми...\n",
       "3  Только у нас фраза \"поправить здоровье\" означа...\n",
       "4  Одна белка случайно попробовала пиво и поняла,..."
      ]
     },
     "execution_count": 2,
     "metadata": {},
     "output_type": "execute_result"
    }
   ],
   "source": [
    "jokes = get_jokes_as_dataframe()\n",
    "jokes.head()"
   ]
  },
  {
   "cell_type": "markdown",
   "metadata": {},
   "source": [
    "### 1. Извлечем кластеры первым методом\n",
    "\n",
    "Каждой шутке припишем название кластера в соответствии с кластеризацией на основе сумму векторов"
   ]
  },
  {
   "cell_type": "code",
   "execution_count": 4,
   "metadata": {},
   "outputs": [],
   "source": [
    "from sklearn.externals import joblib\n",
    "model = joblib.load('knn_fasttext.pkl')\n",
    "jokes['sum_clustering'] = model.labels_"
   ]
  },
  {
   "cell_type": "markdown",
   "metadata": {},
   "source": [
    "### 2. Извлечем кластеры вторым методом\n",
    "\n",
    "Каждая шутка в данном подходе представима как нормированная сумма векторов слов"
   ]
  },
  {
   "cell_type": "code",
   "execution_count": 14,
   "metadata": {},
   "outputs": [],
   "source": [
    "vectorizer = SimpleNormVectorizer(ARANEUM_FASTTEXT)\n",
    "kmeans_model = KMeans(n_clusters=50, random_state=42)\n",
    "cluster_extractor = KmeansSimpleClusterExtractor(kmeans_model)\n",
    "model = Model(vectorizer, cluster_extractor)"
   ]
  },
  {
   "cell_type": "code",
   "execution_count": 15,
   "metadata": {},
   "outputs": [],
   "source": [
    "texts = jokes.joke_text.values"
   ]
  },
  {
   "cell_type": "code",
   "execution_count": 16,
   "metadata": {},
   "outputs": [
    {
     "name": "stdout",
     "output_type": "stream",
     "text": [
      "vectorizer is fitted\n",
      "clustering model is fitted\n"
     ]
    }
   ],
   "source": [
    "demo = model.fit(texts)"
   ]
  },
  {
   "cell_type": "code",
   "execution_count": 23,
   "metadata": {},
   "outputs": [
    {
     "data": {
      "text/plain": [
       "['kmeans_fasttext_normalised.pkl']"
      ]
     },
     "execution_count": 23,
     "metadata": {},
     "output_type": "execute_result"
    }
   ],
   "source": [
    "from sklearn.externals import joblib\n",
    "joblib.dump(model.get_model(), 'kmeans_fasttext_normalised.pkl')"
   ]
  },
  {
   "cell_type": "code",
   "execution_count": 22,
   "metadata": {},
   "outputs": [
    {
     "data": {
      "text/plain": [
       "array(['Неудачник - тот, у кого и жена, и любовница имеют одинаковый месячный цикл.',\n",
       "       'Если одинокая молодая соседка говорит вам «если что надо, заходите, не стесняйтесь», в первый же вечер заходите и не стесняйтесь',\n",
       "       'Возвращается неожиданно мужик домой, запирает шкаф и говорит жене: - А теперь поговорим наедине.',\n",
       "       'Спрашиваю мужа: «Ты поел?» Тот меня передразнивает: «Ты поел?» Я: «Хватит меня передразнивать» Муж снова: «Хватит меня передразнивать!» Я: «Я так тебя люблю, что подарю тебе шубу на день рождение!»  Муж: «Да поел я…»',\n",
       "       'Почему жена у своей подружки может заночевать, а муж у своей нет?',\n",
       "       'После скандала жена уехала к маме, так сказать \"на истерическую родину\".',\n",
       "       'Муж возвращается домой после работы, на столе записка: Дорогой, я ушла к подруге, на ужин рыба, удочка в коридоре',\n",
       "       'Жена мужу: — Станешь меня обижать, пойду на курсы \"Как стать стервой\" Муж: — Преподавателем?',\n",
       "       'Сын спросил : - Мам, а у негритянки пудра чёрного цвета ?......второй час ни о чем больше думать не могу .',\n",
       "       'Только мама носит нас всю жизнь: 9 месяцев в животе, до 3-х лет на руках и всю жизнь в своем сердце.'],\n",
       "      dtype=object)"
      ]
     },
     "execution_count": 22,
     "metadata": {},
     "output_type": "execute_result"
    }
   ],
   "source": [
    "demo[41]"
   ]
  },
  {
   "cell_type": "code",
   "execution_count": 24,
   "metadata": {},
   "outputs": [],
   "source": [
    "jokes['norm_clustering'] = model.get_model().labels_"
   ]
  },
  {
   "cell_type": "code",
   "execution_count": 25,
   "metadata": {},
   "outputs": [
    {
     "data": {
      "text/plain": [
       "(136338,)"
      ]
     },
     "execution_count": 25,
     "metadata": {},
     "output_type": "execute_result"
    }
   ],
   "source": [
    "jokes.joke_text.shape"
   ]
  },
  {
   "cell_type": "code",
   "execution_count": 68,
   "metadata": {},
   "outputs": [],
   "source": [
    "jokes['id'] = [x for x in range(jokes.joke_text.shape[0])]"
   ]
  },
  {
   "cell_type": "markdown",
   "metadata": {},
   "source": [
    "### Сравним, насколько похожи кластеры между двумя методами\n",
    "Как часто происходит такое, что шутки, фактически, оказываются в одном и том же кластере независимо от метода"
   ]
  },
  {
   "cell_type": "code",
   "execution_count": 77,
   "metadata": {},
   "outputs": [],
   "source": [
    "sum_clustering_association = [0] * jokes.sum_clustering.unique().shape[0]\n",
    "for cluster_id in jokes.sum_clustering.unique():\n",
    "    sum_clustering_association[cluster_id] = set(jokes[jokes.sum_clustering == cluster_id].id.values)\n",
    "\n",
    "\n",
    "norm_clustering_association = [0] * jokes.norm_clustering.unique().shape[0]\n",
    "for cluster_id in jokes.norm_clustering.unique():\n",
    "    norm_clustering_association[cluster_id] = set(jokes[jokes.norm_clustering == cluster_id].id.values)"
   ]
  },
  {
   "cell_type": "code",
   "execution_count": 78,
   "metadata": {},
   "outputs": [],
   "source": [
    "def jaccard(s1, s2):\n",
    "    return len(s1.intersection(s2)) / len(s1.union(s2))"
   ]
  },
  {
   "cell_type": "code",
   "execution_count": 88,
   "metadata": {},
   "outputs": [],
   "source": [
    "import numpy as np\n",
    "def find_max_sim_jaccard_cluster(cluster_id):\n",
    "    target_cluster = norm_clustering_association[cluster_id]\n",
    "    similarities = [jaccard(target_cluster, x) for x in sum_clustering_association]\n",
    "    max_sim_idx = np.argmax(similarities)\n",
    "    max_sim = similarities[max_sim_idx]\n",
    "    print('most similar for {} is {}, sim is: {}'.format(cluster_id, max_sim_idx, max_sim))\n",
    "    return (max_sim_idx, max_sim)"
   ]
  },
  {
   "cell_type": "code",
   "execution_count": 89,
   "metadata": {},
   "outputs": [
    {
     "name": "stdout",
     "output_type": "stream",
     "text": [
      "most similar for 0 is 5, sim is: 0.2742336371168186\n",
      "most similar for 1 is 43, sim is: 0.07392915980230642\n",
      "most similar for 2 is 27, sim is: 0.15671062839410396\n",
      "most similar for 3 is 47, sim is: 0.06172839506172839\n",
      "most similar for 4 is 20, sim is: 0.17769718948322757\n",
      "most similar for 5 is 12, sim is: 0.08902877697841727\n",
      "most similar for 6 is 29, sim is: 0.20810313075506445\n",
      "most similar for 7 is 25, sim is: 0.1810850439882698\n",
      "most similar for 8 is 34, sim is: 0.0897172236503856\n",
      "most similar for 9 is 49, sim is: 0.12563736487864574\n",
      "most similar for 10 is 28, sim is: 0.055072028811524606\n",
      "most similar for 11 is 1, sim is: 0.04207841887153331\n",
      "most similar for 12 is 19, sim is: 0.039089055064581914\n",
      "most similar for 13 is 2, sim is: 0.33483483483483484\n",
      "most similar for 14 is 1, sim is: 0.10415464512406232\n",
      "most similar for 15 is 11, sim is: 0.09532095901005413\n",
      "most similar for 16 is 46, sim is: 0.06821236559139784\n",
      "most similar for 17 is 43, sim is: 0.0991194968553459\n",
      "most similar for 18 is 45, sim is: 0.13397260273972603\n",
      "most similar for 19 is 42, sim is: 0.06373598690011337\n",
      "most similar for 20 is 44, sim is: 0.05588052271313006\n",
      "most similar for 21 is 31, sim is: 0.11257817929117443\n",
      "most similar for 22 is 26, sim is: 0.16341799566843868\n",
      "most similar for 23 is 41, sim is: 0.0974145891043398\n",
      "most similar for 24 is 0, sim is: 0.05456042824788964\n",
      "most similar for 25 is 17, sim is: 0.22503201024327785\n",
      "most similar for 26 is 8, sim is: 0.0709613478691774\n",
      "most similar for 27 is 16, sim is: 0.04526000427990584\n",
      "most similar for 28 is 16, sim is: 0.06775186977562693\n",
      "most similar for 29 is 38, sim is: 0.08\n",
      "most similar for 30 is 46, sim is: 0.05165193113075849\n",
      "most similar for 31 is 15, sim is: 0.055836920739427705\n",
      "most similar for 32 is 16, sim is: 0.024644673360281654\n",
      "most similar for 33 is 14, sim is: 0.11905192690428804\n",
      "most similar for 34 is 45, sim is: 0.044966001316078086\n",
      "most similar for 35 is 36, sim is: 0.2337228714524207\n",
      "most similar for 36 is 13, sim is: 0.10811781609195402\n",
      "most similar for 37 is 33, sim is: 0.1620320855614973\n",
      "most similar for 38 is 22, sim is: 0.07850417716483225\n",
      "most similar for 39 is 39, sim is: 0.1932745674175645\n",
      "most similar for 40 is 15, sim is: 0.0783163705364844\n",
      "most similar for 41 is 3, sim is: 0.03949398333847578\n",
      "most similar for 42 is 39, sim is: 0.10891309179817737\n",
      "most similar for 43 is 3, sim is: 0.10968144909431606\n",
      "most similar for 44 is 32, sim is: 0.1128394410756657\n",
      "most similar for 45 is 1, sim is: 0.12588592642591967\n",
      "most similar for 46 is 11, sim is: 0.06404698643546357\n",
      "most similar for 47 is 8, sim is: 0.03489244622311156\n",
      "most similar for 48 is 34, sim is: 0.10088183421516755\n",
      "most similar for 49 is 44, sim is: 0.01602002503128911\n"
     ]
    }
   ],
   "source": [
    "similarities = [find_max_sim_jaccard_cluster(x) for x in range(jokes.sum_clustering.unique().shape[0])]"
   ]
  },
  {
   "cell_type": "markdown",
   "metadata": {},
   "source": [
    "### Анализ кластеров 13 и 2 для каждого метода"
   ]
  },
  {
   "cell_type": "code",
   "execution_count": 102,
   "metadata": {},
   "outputs": [
    {
     "data": {
      "text/plain": [
       "((982, 4), (1685, 4))"
      ]
     },
     "execution_count": 102,
     "metadata": {},
     "output_type": "execute_result"
    }
   ],
   "source": [
    "norm_jokes = jokes[jokes.norm_clustering == 13]\n",
    "sum_jokes = jokes[jokes.sum_clustering == 2]\n",
    "norm_jokes.shape, sum_jokes.shape"
   ]
  },
  {
   "cell_type": "code",
   "execution_count": 105,
   "metadata": {},
   "outputs": [],
   "source": [
    "norm_jokes_ids = norm_jokes.id.values\n",
    "sum_jokes_ids = sum_jokes.id.values"
   ]
  },
  {
   "cell_type": "code",
   "execution_count": 122,
   "metadata": {},
   "outputs": [
    {
     "name": "stdout",
     "output_type": "stream",
     "text": [
      "(313, 4)\n",
      "Дэвид Бекхем подписал контракт с ярославским Шинником во время раздачи автографов..\n",
      "\n",
      "Конечно, в играх такого уровня, может проиграть любая команда, но РОССИЯ проиграть может только ЧЕМПИОНАМ!!!\n",
      "\n",
      "После разговора по душам с главным тренером Станиславом Черчесовым нападающий «Спартака» Квинси попросил политического убежища в Англии.\n",
      "\n",
      "Под видом велосипедной прогулки тренеры «Торпедо» бесплатно доставили игроков на очередной матч в Ярославль.\n",
      "\n",
      "Во время матча с участием «Торпедо» со стадиона ушли даже кресла.\n",
      "\n",
      "В Амстердаме открылся чемпионат мира по нетрадиционному ориентированию.\n",
      "\n",
      "Роман Абрамович решил прикупить футбольный клуб просто для себя любимого:Рома.\n",
      "\n",
      "Петербуржцы переименовали стадион Зенит-Арена в более актуальное Баклан-Арена.\n",
      "\n",
      "Женская лыжная сборная США попросила у WADA разрешительных справок на допинг, пожаловавшись на слабую эрекцию.\n",
      "\n",
      "Манит, манит, манит Куршавель Каждый год по замкнутому кругу...\n",
      "\n",
      "Чемпион мира по бирюлькам может заниматься сексом, не разбудив при этом жену.\n",
      "\n",
      "Основателем российского футбола по праву считается Папа Карло.\n",
      "\n",
      "Губернатор Санкт-Петербурга Георгий Полтавченко объявил, что стадион Зенит-Арена наконец то построен, но работы продолжатся до мая 2017 года.\n",
      "\n",
      "Бойкот ЧМ 2018 со стороны основных футбольных держав - самый реальный шанс Российской сборной его выиграть.\n",
      "\n",
      "Интересно, а крышу чьей виллы поменяли с Зенит-Ареновской?\n",
      "\n",
      "Исполняя танец с саблями, плохой танцор случайно стал хорошим.\n",
      "\n",
      "На Новый Год Арсену Авакову подарили набор для игры в дартс и фотографию Саакашвили.\n",
      "\n",
      "Всего 11 ударов понадобилось Владимиру Кличко, чтобы победить сборную Франции.\n",
      "\n",
      "Для игры в КВН капитан Путин создаёт команду «Скрепящие путриоты».\n",
      "\n",
      "В крови Трампа точно найдут российский мельдоний и победу автоматом присудят Хиллари.\n",
      "\n"
     ]
    }
   ],
   "source": [
    "left_diff = set(norm_jokes_ids) - set(sum_jokes_ids)\n",
    "left_frame = norm_jokes[norm_jokes.id.apply(lambda x: x in left_diff)]\n",
    "print(left_frame.shape)\n",
    "examples = left_frame.joke_text.values\n",
    "for v in examples[:20]:\n",
    "    print(v)\n",
    "    print()"
   ]
  },
  {
   "cell_type": "code",
   "execution_count": 121,
   "metadata": {},
   "outputs": [
    {
     "name": "stdout",
     "output_type": "stream",
     "text": [
      "(1016, 4)\n",
      "У российских спортсменов появилось новое развлечение: Приехать на соревнования в Литву, занять там первое место и заставить свободолюбивых литовцев слушать запрещенную музыку.\n",
      "\n",
      "Вот ты мне как спортсмен скажи: стрелы — стреляют, мечи — мечут, а дротики?\n",
      "\n",
      "Официальным напитком чемпионата России по футболу является тормозная жидкость.\n",
      "\n",
      "Перед противостоянием с Рахимичем и Дуду Динияр Билялетдинов написал завещание.\n",
      "\n",
      "Многого ожидали от открытия игр в Пенине, но чтобы олимпийский огонь зажег ЛеНин....\n",
      "\n",
      "Воробьи с Восточной улицы самым опасным игроком чемпионата России считают Романа Адамова.\n",
      "\n",
      "футболисты сборной россии убедительно доказали, что они никогда в жизни не употребляли мельдоний\n",
      "\n",
      "Полузащитник ЦСКА Даниэл Карвалью на тренировке пытался принять мяч на грудь, но не получилось: помешал второй подбородок.\n",
      "\n",
      "На тренировке питерского «Зенита» по свистку тренера позже всех присел Анатолий Тимощук и таким образом стал капитаном команды.\n",
      "\n",
      "На сессии МОК олимпийскую эстафету признали отдельным видом спорта.\n",
      "\n",
      "Проигрывать надо так достойно, чтобы победителю стало нестерпимо стыдно за свою позорную победу.\n",
      "\n",
      "Вчера в лесу был найден скелет чемпиона мира по пряткам.\n",
      "\n",
      "Людмила Гурченко установила новый Олимпийский рекорд: она подтянулась 55 раз.\n",
      "\n",
      "А представьте, как было бы круто, если бы снег падал матерясь.\n",
      "\n",
      "Собрание клуба экстремалов:    — Я сноубордист  — Я парашютист  — Я доверяю людям  — Блин, чувак, ты вообще отбитый\n",
      "\n",
      "Согласно жеребьевке Кубка Конфедерации, проведенной в Казани, нашей сборной предстоит проиграть сборным Португалии, Мексики и Новой Зеландии.\n",
      "\n",
      "Предлагаю сделать символом Зимней Олимпиады в Сочи либо дельфина на горных лыжах, либо чайку на коньках.\n",
      "\n",
      "Это было настолько давно, что в футбол еще играли летом, а в хоккей зимой.\n",
      "\n",
      "Интересно: а сборную России по танковому биатлону на слушания в ВАДА вызывать будут?\n",
      "\n",
      "Новый спонсор футбольного клуба Металлист - Харьковский велосипедный завод - выделил 11 велосипедов для выездных матчей команды.\n",
      "\n"
     ]
    }
   ],
   "source": [
    "right_diff = set(sum_jokes_ids) - set(norm_jokes_ids)\n",
    "right_frame = sum_jokes[sum_jokes.id.apply(lambda x: x in right_diff)]\n",
    "print(right_frame.shape)\n",
    "examples = right_frame.joke_text.values\n",
    "for v in examples[:20]:\n",
    "    print(v)\n",
    "    print()"
   ]
  }
 ],
 "metadata": {
  "kernelspec": {
   "display_name": "Python 3",
   "language": "python",
   "name": "python3"
  },
  "language_info": {
   "codemirror_mode": {
    "name": "ipython",
    "version": 3
   },
   "file_extension": ".py",
   "mimetype": "text/x-python",
   "name": "python",
   "nbconvert_exporter": "python",
   "pygments_lexer": "ipython3",
   "version": "3.6.5"
  }
 },
 "nbformat": 4,
 "nbformat_minor": 2
}
