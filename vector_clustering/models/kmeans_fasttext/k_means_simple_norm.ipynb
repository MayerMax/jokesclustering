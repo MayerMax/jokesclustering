{
 "cells": [
  {
   "cell_type": "code",
   "execution_count": 1,
   "metadata": {},
   "outputs": [
    {
     "name": "stderr",
     "output_type": "stream",
     "text": [
      "C:\\Users\\PC\\Anaconda3\\lib\\site-packages\\gensim\\utils.py:1209: UserWarning: detected Windows; aliasing chunkize to chunkize_serial\n",
      "  warnings.warn(\"detected Windows; aliasing chunkize to chunkize_serial\")\n"
     ]
    }
   ],
   "source": [
    "import sys\n",
    "import pandas as pd\n",
    "sys.path.append('D:/research/jokesclustering/') # ваш путь до корня проекта\n",
    "from components_simple_norm import SimpleNormVectorizer\n",
    "from components import KmeansSimpleClusterExtractor\n",
    "from vector_clustering.abstract.model import Model\n",
    "from vector_clustering.data.manager import get_jokes_as_dataframe, load_pandas_csv, load, ARANEUM_FASTTEXT\n",
    "from sklearn.cluster import KMeans"
   ]
  },
  {
   "cell_type": "code",
   "execution_count": 2,
   "metadata": {},
   "outputs": [
    {
     "data": {
      "text/html": [
       "<div>\n",
       "<style scoped>\n",
       "    .dataframe tbody tr th:only-of-type {\n",
       "        vertical-align: middle;\n",
       "    }\n",
       "\n",
       "    .dataframe tbody tr th {\n",
       "        vertical-align: top;\n",
       "    }\n",
       "\n",
       "    .dataframe thead th {\n",
       "        text-align: right;\n",
       "    }\n",
       "</style>\n",
       "<table border=\"1\" class=\"dataframe\">\n",
       "  <thead>\n",
       "    <tr style=\"text-align: right;\">\n",
       "      <th></th>\n",
       "      <th>joke_text</th>\n",
       "    </tr>\n",
       "  </thead>\n",
       "  <tbody>\n",
       "    <tr>\n",
       "      <th>0</th>\n",
       "      <td>Мужчину трудно задеть за живое, но уж если зад...</td>\n",
       "    </tr>\n",
       "    <tr>\n",
       "      <th>1</th>\n",
       "      <td>В нашем кемпинге строго запрещено людям разног...</td>\n",
       "    </tr>\n",
       "    <tr>\n",
       "      <th>2</th>\n",
       "      <td>А как хорошо у девушек начинается: любимый: ми...</td>\n",
       "    </tr>\n",
       "    <tr>\n",
       "      <th>3</th>\n",
       "      <td>Одна белка случайно попробовала пиво и поняла,...</td>\n",
       "    </tr>\n",
       "    <tr>\n",
       "      <th>4</th>\n",
       "      <td>ОБЪЯВЛЕНИЕ На время мирового финансового кризи...</td>\n",
       "    </tr>\n",
       "  </tbody>\n",
       "</table>\n",
       "</div>"
      ],
      "text/plain": [
       "                                           joke_text\n",
       "0  Мужчину трудно задеть за живое, но уж если зад...\n",
       "1  В нашем кемпинге строго запрещено людям разног...\n",
       "2  А как хорошо у девушек начинается: любимый: ми...\n",
       "3  Одна белка случайно попробовала пиво и поняла,...\n",
       "4  ОБЪЯВЛЕНИЕ На время мирового финансового кризи..."
      ]
     },
     "execution_count": 2,
     "metadata": {},
     "output_type": "execute_result"
    }
   ],
   "source": [
    "jokes = get_jokes_as_dataframe()\n",
    "jokes.head()"
   ]
  },
  {
   "cell_type": "code",
   "execution_count": 3,
   "metadata": {},
   "outputs": [],
   "source": [
    "vectorizer = SimpleNormVectorizer(ARANEUM_FASTTEXT)\n",
    "kmeans_model = KMeans(n_clusters=50, random_state=42)\n",
    "cluster_extractor = KmeansSimpleClusterExtractor(kmeans_model)"
   ]
  },
  {
   "cell_type": "code",
   "execution_count": 4,
   "metadata": {},
   "outputs": [],
   "source": [
    "model = Model(vectorizer, cluster_extractor)"
   ]
  },
  {
   "cell_type": "code",
   "execution_count": 5,
   "metadata": {},
   "outputs": [],
   "source": [
    "texts = jokes.joke_text.values"
   ]
  },
  {
   "cell_type": "code",
   "execution_count": 6,
   "metadata": {},
   "outputs": [
    {
     "name": "stdout",
     "output_type": "stream",
     "text": [
      "vectorizer is fitted\n",
      "clustering model is fitted\n"
     ]
    }
   ],
   "source": [
    "demo = model.fit(texts)"
   ]
  },
  {
   "cell_type": "code",
   "execution_count": 9,
   "metadata": {},
   "outputs": [],
   "source": [
    "knn = model.get_model()"
   ]
  },
  {
   "cell_type": "code",
   "execution_count": 25,
   "metadata": {},
   "outputs": [],
   "source": [
    "jokes['cluster_id'] = knn.labels_"
   ]
  },
  {
   "cell_type": "code",
   "execution_count": 13,
   "metadata": {},
   "outputs": [],
   "source": [
    "from collections import Counter\n",
    "import numpy as np\n",
    "counts = [v for k, v in Counter(knn.labels_).items()]"
   ]
  },
  {
   "cell_type": "code",
   "execution_count": 14,
   "metadata": {},
   "outputs": [
    {
     "data": {
      "text/plain": [
       "(2715.98, 236, 5287, 2464.5)"
      ]
     },
     "execution_count": 14,
     "metadata": {},
     "output_type": "execute_result"
    }
   ],
   "source": [
    "np.mean(counts), np.min(counts), np.max(counts), np.median(counts)"
   ]
  },
  {
   "cell_type": "code",
   "execution_count": 19,
   "metadata": {},
   "outputs": [],
   "source": [
    "from gensim.utils import simple_preprocess\n",
    "from rnnmorph.predictor import RNNMorphPredictor\n",
    "predictor = RNNMorphPredictor(language=\"ru\")\n",
    "\n",
    "def nouns_in_joke(joke):\n",
    "    words = simple_preprocess(joke, max_len=1000000)\n",
    "    forms = predictor.predict(words)\n",
    "    return [words[i] for i in range(len(words)) if forms[i].pos == 'NOUN']\n",
    "\n",
    "def cluster_nouns(cluster_id):\n",
    "    sub = jokes[jokes.cluster_id == cluster_id].joke_text.values\n",
    "    sub = [nouns_in_joke(x) for x in sub]\n",
    "    res = set()\n",
    "    for x in sub:\n",
    "        res.update(x)\n",
    "    return np.array(list(res))"
   ]
  },
  {
   "cell_type": "code",
   "execution_count": 22,
   "metadata": {},
   "outputs": [],
   "source": [
    "fasttext_wrapper = load(ARANEUM_FASTTEXT)"
   ]
  },
  {
   "cell_type": "code",
   "execution_count": 26,
   "metadata": {},
   "outputs": [],
   "source": [
    "from sklearn.metrics.pairwise import euclidean_distances\n",
    "\n",
    "def cluster_top_based_on_equclidian_distance(cluster_id, top=15):\n",
    "    centroid_vector = knn.cluster_centers_[cluster_id]\n",
    "    nouns = cluster_nouns(cluster_id)\n",
    "    \n",
    "    vectores = []\n",
    "    words = []\n",
    "    for noun in nouns:\n",
    "        try:\n",
    "            vectores.append(fasttext_wrapper[noun])\n",
    "            words.append(noun)\n",
    "        except KeyError as e:\n",
    "            pass\n",
    "        \n",
    "    vectores = np.array(vectores)\n",
    "    nouns = np.array(words)\n",
    "    \n",
    "    distances = euclidean_distances(vectores, [centroid_vector])\n",
    "    distances_idx = np.argsort(np.ravel(distances))\n",
    "    min_dist_top = distances_idx[:top]\n",
    "    words = nouns[min_dist_top]\n",
    "    return '\\n'.join(words)"
   ]
  },
  {
   "cell_type": "code",
   "execution_count": 27,
   "metadata": {},
   "outputs": [
    {
     "name": "stdout",
     "output_type": "stream",
     "text": [
      "0\n"
     ]
    },
    {
     "name": "stderr",
     "output_type": "stream",
     "text": [
      "C:\\Users\\PC\\Anaconda3\\lib\\site-packages\\ipykernel_launcher.py:11: DeprecationWarning: Call to deprecated `__getitem__` (Method will be removed in 4.0.0, use self.wv.__getitem__() instead).\n",
      "  # This is added back by InteractiveShellApp.init_path()\n"
     ]
    },
    {
     "name": "stdout",
     "output_type": "stream",
     "text": [
      "дураками\n",
      "настеньку\n",
      "дураком\n",
      "девоньки\n",
      "печеньками\n",
      "господина\n",
      "шуточками\n",
      "старика\n",
      "покойника\n",
      "глупостей\n",
      "старикашке\n",
      "сволочи\n",
      "гадости\n",
      "виселька\n",
      "помордас\n",
      "\n",
      "1\n"
     ]
    },
    {
     "name": "stderr",
     "output_type": "stream",
     "text": [
      "C:\\Users\\PC\\Anaconda3\\lib\\site-packages\\ipykernel_launcher.py:11: DeprecationWarning: Call to deprecated `__getitem__` (Method will be removed in 4.0.0, use self.wv.__getitem__() instead).\n",
      "  # This is added back by InteractiveShellApp.init_path()\n"
     ]
    },
    {
     "name": "stdout",
     "output_type": "stream",
     "text": [
      "александровича\n",
      "петросяна\n",
      "макаревичу\n",
      "жириновского\n",
      "смирнову\n",
      "петровичу\n",
      "милевского\n",
      "виктором\n",
      "слоников\n",
      "макаревича\n",
      "генералиссимусом\n",
      "самозванцев\n",
      "москалей\n",
      "жириновскому\n",
      "малиновке\n",
      "\n",
      "2\n"
     ]
    },
    {
     "name": "stderr",
     "output_type": "stream",
     "text": [
      "C:\\Users\\PC\\Anaconda3\\lib\\site-packages\\ipykernel_launcher.py:11: DeprecationWarning: Call to deprecated `__getitem__` (Method will be removed in 4.0.0, use self.wv.__getitem__() instead).\n",
      "  # This is added back by InteractiveShellApp.init_path()\n"
     ]
    },
    {
     "name": "stdout",
     "output_type": "stream",
     "text": [
      "неосмотрительности\n",
      "навального\n",
      "политкорректности\n",
      "женоненавистники\n",
      "бездельники\n",
      "предатели\n",
      "уговариват\n",
      "однокласниках\n",
      "соображений\n",
      "бездельников\n",
      "жириновского\n",
      "старости\n",
      "презервативы\n",
      "одиночестве\n",
      "проститутками\n",
      "\n",
      "3\n"
     ]
    },
    {
     "name": "stderr",
     "output_type": "stream",
     "text": [
      "C:\\Users\\PC\\Anaconda3\\lib\\site-packages\\ipykernel_launcher.py:11: DeprecationWarning: Call to deprecated `__getitem__` (Method will be removed in 4.0.0, use self.wv.__getitem__() instead).\n",
      "  # This is added back by InteractiveShellApp.init_path()\n"
     ]
    },
    {
     "name": "stdout",
     "output_type": "stream",
     "text": [
      "господина\n",
      "господином\n",
      "господу\n",
      "несправедливостей\n",
      "дьяволопоклонник\n",
      "предатели\n",
      "благословением\n",
      "старости\n",
      "императором\n",
      "господом\n",
      "девственницам\n",
      "милонове\n",
      "грешники\n",
      "праведником\n",
      "наставники\n",
      "\n",
      "4\n"
     ]
    },
    {
     "name": "stderr",
     "output_type": "stream",
     "text": [
      "C:\\Users\\PC\\Anaconda3\\lib\\site-packages\\ipykernel_launcher.py:11: DeprecationWarning: Call to deprecated `__getitem__` (Method will be removed in 4.0.0, use self.wv.__getitem__() instead).\n",
      "  # This is added back by InteractiveShellApp.init_path()\n"
     ]
    },
    {
     "name": "stdout",
     "output_type": "stream",
     "text": [
      "холостяка\n",
      "непристойности\n",
      "любовником\n",
      "подкаблучника\n",
      "любовнице\n",
      "любовнику\n",
      "невесту\n",
      "холостяком\n",
      "любовника\n",
      "истерики\n",
      "невесты\n",
      "блондинкой\n",
      "невестой\n",
      "старика\n",
      "хреновена\n",
      "\n",
      "5\n"
     ]
    },
    {
     "name": "stderr",
     "output_type": "stream",
     "text": [
      "C:\\Users\\PC\\Anaconda3\\lib\\site-packages\\ipykernel_launcher.py:11: DeprecationWarning: Call to deprecated `__getitem__` (Method will be removed in 4.0.0, use self.wv.__getitem__() instead).\n",
      "  # This is added back by InteractiveShellApp.init_path()\n"
     ]
    },
    {
     "name": "stdout",
     "output_type": "stream",
     "text": [
      "товарищами\n",
      "одноклассником\n",
      "терминатором\n",
      "антилохотрон\n",
      "модератора\n",
      "одноклассниках\n",
      "проститутками\n",
      "джентельмена\n",
      "терминатора\n",
      "одноклассники\n",
      "инопланетянина\n",
      "малолетками\n",
      "жириновскому\n",
      "оператором\n",
      "приколистка\n",
      "\n",
      "6\n"
     ]
    },
    {
     "name": "stderr",
     "output_type": "stream",
     "text": [
      "C:\\Users\\PC\\Anaconda3\\lib\\site-packages\\ipykernel_launcher.py:11: DeprecationWarning: Call to deprecated `__getitem__` (Method will be removed in 4.0.0, use self.wv.__getitem__() instead).\n",
      "  # This is added back by InteractiveShellApp.init_path()\n"
     ]
    },
    {
     "name": "stdout",
     "output_type": "stream",
     "text": [
      "воскресеньем\n",
      "понедельником\n",
      "воскресенье\n",
      "деньрожденьем\n",
      "понедельника\n",
      "воскресенья\n",
      "белобилетники\n",
      "понедельников\n",
      "пятницасубботавоскресенье\n",
      "воскресений\n",
      "просрала\n",
      "мандаринки\n",
      "половины\n",
      "напарником\n",
      "старости\n",
      "\n",
      "7\n"
     ]
    },
    {
     "name": "stderr",
     "output_type": "stream",
     "text": [
      "C:\\Users\\PC\\Anaconda3\\lib\\site-packages\\ipykernel_launcher.py:11: DeprecationWarning: Call to deprecated `__getitem__` (Method will be removed in 4.0.0, use self.wv.__getitem__() instead).\n",
      "  # This is added back by InteractiveShellApp.init_path()\n"
     ]
    },
    {
     "name": "stdout",
     "output_type": "stream",
     "text": [
      "настенькой\n",
      "коровок\n",
      "вороно\n",
      "коньками\n",
      "настеньки\n",
      "настеньке\n",
      "мороженого\n",
      "крокодила\n",
      "поросенка\n",
      "черевички\n",
      "ласточек\n",
      "теремочком\n",
      "медвежонка\n",
      "стариком\n",
      "сороконожки\n",
      "\n",
      "8\n"
     ]
    },
    {
     "name": "stderr",
     "output_type": "stream",
     "text": [
      "C:\\Users\\PC\\Anaconda3\\lib\\site-packages\\ipykernel_launcher.py:11: DeprecationWarning: Call to deprecated `__getitem__` (Method will be removed in 4.0.0, use self.wv.__getitem__() instead).\n",
      "  # This is added back by InteractiveShellApp.init_path()\n"
     ]
    },
    {
     "name": "stdout",
     "output_type": "stream",
     "text": [
      "сексопатологу\n",
      "сексопатолога\n",
      "невропатолога\n",
      "целительнице\n",
      "истерики\n",
      "больного\n",
      "оталаринголога\n",
      "оталаринголог\n",
      "ветеринаром\n",
      "патологоанатома\n",
      "одноклассницами\n",
      "провизора\n",
      "старости\n",
      "онанистом\n",
      "головогружение\n",
      "\n",
      "9\n"
     ]
    },
    {
     "name": "stderr",
     "output_type": "stream",
     "text": [
      "C:\\Users\\PC\\Anaconda3\\lib\\site-packages\\ipykernel_launcher.py:11: DeprecationWarning: Call to deprecated `__getitem__` (Method will be removed in 4.0.0, use self.wv.__getitem__() instead).\n",
      "  # This is added back by InteractiveShellApp.init_path()\n"
     ]
    },
    {
     "name": "stdout",
     "output_type": "stream",
     "text": [
      "господином\n",
      "перепутатькто\n",
      "господину\n",
      "старости\n",
      "девственницами\n",
      "насильником\n",
      "мордоворотом\n",
      "несправедливости\n",
      "любовником\n",
      "невесту\n",
      "стариком\n",
      "подсрачники\n",
      "старика\n",
      "благоразумием\n",
      "старики\n",
      "\n",
      "10\n"
     ]
    },
    {
     "name": "stderr",
     "output_type": "stream",
     "text": [
      "C:\\Users\\PC\\Anaconda3\\lib\\site-packages\\ipykernel_launcher.py:11: DeprecationWarning: Call to deprecated `__getitem__` (Method will be removed in 4.0.0, use self.wv.__getitem__() instead).\n",
      "  # This is added back by InteractiveShellApp.init_path()\n"
     ]
    },
    {
     "name": "stdout",
     "output_type": "stream",
     "text": [
      "госпереворота\n",
      "соплеменников\n",
      "пристава\n",
      "остервенением\n",
      "серебренникову\n",
      "скандалиста\n",
      "павленского\n",
      "напарником\n",
      "петровны\n",
      "коллаборационисты\n",
      "поляками\n",
      "предатели\n",
      "каратели\n",
      "полисменов\n",
      "господина\n",
      "\n",
      "11\n"
     ]
    },
    {
     "name": "stderr",
     "output_type": "stream",
     "text": [
      "C:\\Users\\PC\\Anaconda3\\lib\\site-packages\\ipykernel_launcher.py:11: DeprecationWarning: Call to deprecated `__getitem__` (Method will be removed in 4.0.0, use self.wv.__getitem__() instead).\n",
      "  # This is added back by InteractiveShellApp.init_path()\n"
     ]
    },
    {
     "name": "stdout",
     "output_type": "stream",
     "text": [
      "приколисты\n",
      "натуралиста\n",
      "трактористы\n",
      "терминатора\n",
      "каратистом\n",
      "передовики\n",
      "разворотом\n",
      "пограничниками\n",
      "напильником\n",
      "половинку\n",
      "товарищами\n",
      "шароварах\n",
      "молотками\n",
      "космополитена\n",
      "протектором\n",
      "\n",
      "12\n"
     ]
    },
    {
     "name": "stderr",
     "output_type": "stream",
     "text": [
      "C:\\Users\\PC\\Anaconda3\\lib\\site-packages\\ipykernel_launcher.py:11: DeprecationWarning: Call to deprecated `__getitem__` (Method will be removed in 4.0.0, use self.wv.__getitem__() instead).\n",
      "  # This is added back by InteractiveShellApp.init_path()\n"
     ]
    },
    {
     "name": "stdout",
     "output_type": "stream",
     "text": [
      "старики\n",
      "стариками\n",
      "бездельнике\n",
      "истерики\n",
      "невесты\n",
      "старику\n",
      "девственницами\n",
      "невесту\n",
      "гадостей\n",
      "покойника\n",
      "холостяка\n",
      "невестки\n",
      "стариканом\n",
      "папенькой\n",
      "старика\n",
      "\n",
      "13\n"
     ]
    },
    {
     "name": "stderr",
     "output_type": "stream",
     "text": [
      "C:\\Users\\PC\\Anaconda3\\lib\\site-packages\\ipykernel_launcher.py:11: DeprecationWarning: Call to deprecated `__getitem__` (Method will be removed in 4.0.0, use self.wv.__getitem__() instead).\n",
      "  # This is added back by InteractiveShellApp.init_path()\n"
     ]
    },
    {
     "name": "stdout",
     "output_type": "stream",
     "text": [
      "жириновского\n",
      "толковательнице\n",
      "бездельников\n",
      "градоначальником\n",
      "григорьевича\n",
      "головорезов\n",
      "навального\n",
      "предателей\n",
      "генералиссимуса\n",
      "степановиче\n",
      "петровича\n",
      "станиславского\n",
      "ходорковского\n",
      "наперсточников\n",
      "макаревича\n",
      "\n",
      "14\n"
     ]
    },
    {
     "name": "stderr",
     "output_type": "stream",
     "text": [
      "C:\\Users\\PC\\Anaconda3\\lib\\site-packages\\ipykernel_launcher.py:11: DeprecationWarning: Call to deprecated `__getitem__` (Method will be removed in 4.0.0, use self.wv.__getitem__() instead).\n",
      "  # This is added back by InteractiveShellApp.init_path()\n"
     ]
    },
    {
     "name": "stdout",
     "output_type": "stream",
     "text": [
      "придурковатость\n",
      "соплеменники\n",
      "справедливости\n",
      "неприкосновенности\n",
      "недогадливостью\n",
      "бездельника\n",
      "парадоксом\n",
      "недоразумению\n",
      "противоположности\n",
      "непониманием\n",
      "странностей\n",
      "невнимательности\n",
      "искренности\n",
      "соображений\n",
      "навального\n",
      "\n",
      "15\n"
     ]
    },
    {
     "name": "stderr",
     "output_type": "stream",
     "text": [
      "C:\\Users\\PC\\Anaconda3\\lib\\site-packages\\ipykernel_launcher.py:11: DeprecationWarning: Call to deprecated `__getitem__` (Method will be removed in 4.0.0, use self.wv.__getitem__() instead).\n",
      "  # This is added back by InteractiveShellApp.init_path()\n"
     ]
    },
    {
     "name": "stdout",
     "output_type": "stream",
     "text": [
      "пастернака\n",
      "половины\n",
      "половине\n",
      "одноклассницами\n",
      "аликманкишиоглыбердыкилимандыбатырбекову\n",
      "семерок\n",
      "пристанями\n",
      "рабиновичей\n",
      "парасотенонеры\n",
      "перестукину\n",
      "четверти\n",
      "воскресенье\n",
      "анатольича\n",
      "магнитогорска\n",
      "недельки\n",
      "\n",
      "16\n"
     ]
    },
    {
     "name": "stderr",
     "output_type": "stream",
     "text": [
      "C:\\Users\\PC\\Anaconda3\\lib\\site-packages\\ipykernel_launcher.py:11: DeprecationWarning: Call to deprecated `__getitem__` (Method will be removed in 4.0.0, use self.wv.__getitem__() instead).\n",
      "  # This is added back by InteractiveShellApp.init_path()\n"
     ]
    },
    {
     "name": "stdout",
     "output_type": "stream",
     "text": [
      "скороговоркам\n",
      "скороговоркой\n",
      "презервативы\n",
      "долгожительству\n",
      "центробанком\n",
      "центробанка\n",
      "центробанку\n",
      "поличным\n",
      "фальшивомонетчики\n",
      "кремлеботы\n",
      "рабиновича\n",
      "рабиновичем\n",
      "проституток\n",
      "товарищем\n",
      "просрали\n",
      "\n",
      "17\n"
     ]
    },
    {
     "name": "stderr",
     "output_type": "stream",
     "text": [
      "C:\\Users\\PC\\Anaconda3\\lib\\site-packages\\ipykernel_launcher.py:11: DeprecationWarning: Call to deprecated `__getitem__` (Method will be removed in 4.0.0, use self.wv.__getitem__() instead).\n",
      "  # This is added back by InteractiveShellApp.init_path()\n"
     ]
    },
    {
     "name": "stdout",
     "output_type": "stream",
     "text": [
      "мерзавцами\n",
      "старикана\n",
      "хваннадальсхнукюр\n",
      "жириновского\n",
      "укрокарателей\n",
      "подворотнями\n",
      "градоначальником\n",
      "императором\n",
      "матроску\n",
      "патриотками\n",
      "девственницами\n",
      "константина\n",
      "американскихгорок\n",
      "навального\n",
      "голодомора\n",
      "\n",
      "18\n"
     ]
    },
    {
     "name": "stderr",
     "output_type": "stream",
     "text": [
      "C:\\Users\\PC\\Anaconda3\\lib\\site-packages\\ipykernel_launcher.py:11: DeprecationWarning: Call to deprecated `__getitem__` (Method will be removed in 4.0.0, use self.wv.__getitem__() instead).\n",
      "  # This is added back by InteractiveShellApp.init_path()\n"
     ]
    },
    {
     "name": "stdout",
     "output_type": "stream",
     "text": [
      "винегретом\n",
      "фрикадельками\n",
      "котлеточками\n",
      "приколисты\n",
      "поллитрами\n",
      "вареного\n",
      "черносливом\n",
      "креветками\n",
      "пельменьками\n",
      "зельеваренье\n",
      "поросенка\n",
      "морковки\n",
      "поросёночек\n",
      "подносом\n",
      "сковороде\n",
      "\n",
      "19\n"
     ]
    },
    {
     "name": "stderr",
     "output_type": "stream",
     "text": [
      "C:\\Users\\PC\\Anaconda3\\lib\\site-packages\\ipykernel_launcher.py:11: DeprecationWarning: Call to deprecated `__getitem__` (Method will be removed in 4.0.0, use self.wv.__getitem__() instead).\n",
      "  # This is added back by InteractiveShellApp.init_path()\n"
     ]
    },
    {
     "name": "stdout",
     "output_type": "stream",
     "text": [
      "доченькой\n",
      "перфекционистом\n",
      "неприятности\n",
      "неприятностей\n",
      "приктически\n",
      "подзатыльником\n",
      "смелости\n",
      "больного\n",
      "невестой\n",
      "холостяка\n",
      "параноиках\n",
      "справедливости\n",
      "навальному\n",
      "удовольствием\n",
      "недостатки\n",
      "\n",
      "20\n"
     ]
    },
    {
     "name": "stderr",
     "output_type": "stream",
     "text": [
      "C:\\Users\\PC\\Anaconda3\\lib\\site-packages\\ipykernel_launcher.py:11: DeprecationWarning: Call to deprecated `__getitem__` (Method will be removed in 4.0.0, use self.wv.__getitem__() instead).\n",
      "  # This is added back by InteractiveShellApp.init_path()\n"
     ]
    },
    {
     "name": "stdout",
     "output_type": "stream",
     "text": [
      "содомадонасьена\n",
      "мистера\n",
      "истерики\n",
      "знаменитостей\n",
      "сильвупле\n",
      "робертом\n",
      "инопланетянина\n",
      "старика\n",
      "американцами\n",
      "баронессы\n",
      "старики\n",
      "квентина\n",
      "парадами\n",
      "мерзавцами\n",
      "знаменитости\n",
      "\n",
      "21\n"
     ]
    },
    {
     "name": "stderr",
     "output_type": "stream",
     "text": [
      "C:\\Users\\PC\\Anaconda3\\lib\\site-packages\\ipykernel_launcher.py:11: DeprecationWarning: Call to deprecated `__getitem__` (Method will be removed in 4.0.0, use self.wv.__getitem__() instead).\n",
      "  # This is added back by InteractiveShellApp.init_path()\n"
     ]
    },
    {
     "name": "stdout",
     "output_type": "stream",
     "text": [
      "политкорректности\n",
      "сообразительностью\n",
      "естественности\n",
      "предостережения\n",
      "признательности\n",
      "неконкурентноспособность\n",
      "презервативы\n",
      "презервативов\n",
      "недостатками\n",
      "абракобамбрашвабрмаафроамериканбраштатыроссияфрэндшипфорэвэмбра\n",
      "неприкосновенности\n",
      "придурковатость\n",
      "самостоятельности\n",
      "целесообразности\n",
      "растрату\n",
      "\n",
      "22\n"
     ]
    },
    {
     "name": "stderr",
     "output_type": "stream",
     "text": [
      "C:\\Users\\PC\\Anaconda3\\lib\\site-packages\\ipykernel_launcher.py:11: DeprecationWarning: Call to deprecated `__getitem__` (Method will be removed in 4.0.0, use self.wv.__getitem__() instead).\n",
      "  # This is added back by InteractiveShellApp.init_path()\n"
     ]
    },
    {
     "name": "stdout",
     "output_type": "stream",
     "text": [
      "терминатора\n",
      "автопроизводителей\n",
      "видеорегистратора\n",
      "автопроизводители\n",
      "операторами\n",
      "разводителем\n",
      "внедорожником\n",
      "презервативов\n",
      "администраторами\n",
      "производителей\n",
      "плевательницами\n",
      "владивостока\n",
      "послестаграмм\n",
      "презервативы\n",
      "программистов\n",
      "\n",
      "23\n"
     ]
    },
    {
     "name": "stderr",
     "output_type": "stream",
     "text": [
      "C:\\Users\\PC\\Anaconda3\\lib\\site-packages\\ipykernel_launcher.py:11: DeprecationWarning: Call to deprecated `__getitem__` (Method will be removed in 4.0.0, use self.wv.__getitem__() instead).\n",
      "  # This is added back by InteractiveShellApp.init_path()\n"
     ]
    },
    {
     "name": "stdout",
     "output_type": "stream",
     "text": [
      "жириновского\n",
      "жириновскому\n",
      "навального\n",
      "ходорковского\n",
      "диктатором\n",
      "предатели\n",
      "кремлеботам\n",
      "господина\n",
      "простофили\n",
      "ходорковскому\n",
      "бандерлогов\n",
      "единоросса\n",
      "товарищами\n",
      "медведеву\n",
      "очернительства\n",
      "\n",
      "24\n"
     ]
    },
    {
     "name": "stderr",
     "output_type": "stream",
     "text": [
      "C:\\Users\\PC\\Anaconda3\\lib\\site-packages\\ipykernel_launcher.py:11: DeprecationWarning: Call to deprecated `__getitem__` (Method will be removed in 4.0.0, use self.wv.__getitem__() instead).\n",
      "  # This is added back by InteractiveShellApp.init_path()\n"
     ]
    },
    {
     "name": "stdout",
     "output_type": "stream",
     "text": [
      "возлюбленного\n",
      "любовники\n",
      "невестами\n",
      "невесты\n",
      "любовником\n",
      "любовнику\n",
      "невесту\n",
      "любовнице\n",
      "одноклассницах\n",
      "невест\n",
      "свекровью\n",
      "женатого\n",
      "собутыльником\n",
      "истерики\n",
      "старика\n",
      "\n",
      "25\n"
     ]
    },
    {
     "name": "stderr",
     "output_type": "stream",
     "text": [
      "C:\\Users\\PC\\Anaconda3\\lib\\site-packages\\ipykernel_launcher.py:11: DeprecationWarning: Call to deprecated `__getitem__` (Method will be removed in 4.0.0, use self.wv.__getitem__() instead).\n",
      "  # This is added back by InteractiveShellApp.init_path()\n"
     ]
    },
    {
     "name": "stdout",
     "output_type": "stream",
     "text": [
      "старики\n",
      "девоньки\n",
      "калиночка\n",
      "девками\n",
      "коньками\n",
      "пидорасом\n",
      "сволочи\n",
      "мистером\n",
      "комарики\n",
      "пастуха\n",
      "братела\n",
      "истерики\n",
      "дураком\n",
      "настеньке\n",
      "валенках\n",
      "\n",
      "26\n"
     ]
    },
    {
     "name": "stderr",
     "output_type": "stream",
     "text": [
      "C:\\Users\\PC\\Anaconda3\\lib\\site-packages\\ipykernel_launcher.py:11: DeprecationWarning: Call to deprecated `__getitem__` (Method will be removed in 4.0.0, use self.wv.__getitem__() instead).\n",
      "  # This is added back by InteractiveShellApp.init_path()\n"
     ]
    },
    {
     "name": "stdout",
     "output_type": "stream",
     "text": [
      "стариками\n",
      "большезадомшевелин\n",
      "девственниками\n",
      "чивирзднеркильмаскишбрунгальдмерк\n",
      "потрошительница\n",
      "приятельнице\n",
      "настенькина\n",
      "скороговорки\n",
      "старики\n",
      "настеньке\n",
      "джентельмена\n",
      "братуууха\n",
      "товарищами\n",
      "старости\n",
      "мороженого\n",
      "\n",
      "27\n"
     ]
    },
    {
     "name": "stderr",
     "output_type": "stream",
     "text": [
      "C:\\Users\\PC\\Anaconda3\\lib\\site-packages\\ipykernel_launcher.py:11: DeprecationWarning: Call to deprecated `__getitem__` (Method will be removed in 4.0.0, use self.wv.__getitem__() instead).\n",
      "  # This is added back by InteractiveShellApp.init_path()\n"
     ]
    },
    {
     "name": "stdout",
     "output_type": "stream",
     "text": [
      "навального\n",
      "решительноенаступление\n",
      "жириновского\n",
      "издевательства\n",
      "плевательницу\n",
      "икомуятоконидавала\n",
      "жириновскому\n",
      "господина\n",
      "истерику\n",
      "предатели\n",
      "пристава\n",
      "перепуточки\n",
      "бандерлогам\n",
      "наперсточниками\n",
      "перепугу\n",
      "\n",
      "28\n"
     ]
    },
    {
     "name": "stderr",
     "output_type": "stream",
     "text": [
      "C:\\Users\\PC\\Anaconda3\\lib\\site-packages\\ipykernel_launcher.py:11: DeprecationWarning: Call to deprecated `__getitem__` (Method will be removed in 4.0.0, use self.wv.__getitem__() instead).\n",
      "  # This is added back by InteractiveShellApp.init_path()\n"
     ]
    },
    {
     "name": "stdout",
     "output_type": "stream",
     "text": [
      "владивостока\n",
      "градоначальники\n",
      "жириновского\n",
      "пономареву\n",
      "полонского\n",
      "владивостоке\n",
      "интернационалистов\n",
      "трактористов\n",
      "радзаунаримампианина\n",
      "пограничники\n",
      "гастробайтеров\n",
      "железнодорожника\n",
      "течественники\n",
      "жириновскому\n",
      "александровича\n",
      "\n",
      "29\n"
     ]
    },
    {
     "name": "stderr",
     "output_type": "stream",
     "text": [
      "C:\\Users\\PC\\Anaconda3\\lib\\site-packages\\ipykernel_launcher.py:11: DeprecationWarning: Call to deprecated `__getitem__` (Method will be removed in 4.0.0, use self.wv.__getitem__() instead).\n",
      "  # This is added back by InteractiveShellApp.init_path()\n"
     ]
    },
    {
     "name": "stdout",
     "output_type": "stream",
     "text": [
      "настенькина\n",
      "астенька\n",
      "старичек\n",
      "настеньке\n",
      "мороженого\n",
      "дочками\n",
      "братишку\n",
      "братиком\n",
      "настеньки\n",
      "нихуяшеньки\n",
      "старикана\n",
      "девочками\n",
      "леночкой\n",
      "сыночком\n",
      "подружки\n",
      "\n",
      "30\n"
     ]
    },
    {
     "name": "stderr",
     "output_type": "stream",
     "text": [
      "C:\\Users\\PC\\Anaconda3\\lib\\site-packages\\ipykernel_launcher.py:11: DeprecationWarning: Call to deprecated `__getitem__` (Method will be removed in 4.0.0, use self.wv.__getitem__() instead).\n",
      "  # This is added back by InteractiveShellApp.init_path()\n"
     ]
    },
    {
     "name": "stdout",
     "output_type": "stream",
     "text": [
      "доминошниками\n",
      "трухспринтодинокрузианусфен\n",
      "навального\n",
      "самолтами\n",
      "супернаглость\n",
      "соплеменника\n",
      "всёпидорасыдапидорасы\n",
      "крутотень\n",
      "бесцеремонности\n",
      "истерики\n",
      "простакам\n",
      "попрошайки\n",
      "воображением\n",
      "жириновского\n",
      "истерику\n",
      "\n",
      "31\n"
     ]
    },
    {
     "name": "stderr",
     "output_type": "stream",
     "text": [
      "C:\\Users\\PC\\Anaconda3\\lib\\site-packages\\ipykernel_launcher.py:11: DeprecationWarning: Call to deprecated `__getitem__` (Method will be removed in 4.0.0, use self.wv.__getitem__() instead).\n",
      "  # This is added back by InteractiveShellApp.init_path()\n"
     ]
    },
    {
     "name": "stdout",
     "output_type": "stream",
     "text": [
      "пустобрехалование\n",
      "предводители\n",
      "раскольниковым\n",
      "проституками\n",
      "справороссами\n",
      "жириновского\n",
      "продовольствием\n",
      "пролетариату\n",
      "негодованием\n",
      "трактористов\n",
      "политкорректности\n",
      "уголовниками\n",
      "издевательств\n",
      "налогоплатильщиков\n",
      "сторонники\n",
      "\n",
      "32\n"
     ]
    },
    {
     "name": "stderr",
     "output_type": "stream",
     "text": [
      "C:\\Users\\PC\\Anaconda3\\lib\\site-packages\\ipykernel_launcher.py:11: DeprecationWarning: Call to deprecated `__getitem__` (Method will be removed in 4.0.0, use self.wv.__getitem__() instead).\n",
      "  # This is added back by InteractiveShellApp.init_path()\n"
     ]
    },
    {
     "name": "stdout",
     "output_type": "stream",
     "text": [
      "настенькой\n",
      "господина\n",
      "невесту\n",
      "одиночества\n",
      "любовником\n",
      "идиотом\n",
      "садомахохисты\n",
      "дураками\n",
      "воображением\n",
      "одиночестве\n",
      "искушеньем\n",
      "парадоксы\n",
      "брезгливости\n",
      "кровопийцы\n",
      "истерику\n",
      "\n",
      "33\n"
     ]
    },
    {
     "name": "stderr",
     "output_type": "stream",
     "text": [
      "C:\\Users\\PC\\Anaconda3\\lib\\site-packages\\ipykernel_launcher.py:11: DeprecationWarning: Call to deprecated `__getitem__` (Method will be removed in 4.0.0, use self.wv.__getitem__() instead).\n",
      "  # This is added back by InteractiveShellApp.init_path()\n"
     ]
    },
    {
     "name": "stdout",
     "output_type": "stream",
     "text": [
      "воскресеньем\n",
      "расказала\n",
      "мистраля\n",
      "подкаблучники\n",
      "настеньке\n",
      "потапову\n",
      "гробовщику\n",
      "воскресенье\n",
      "воскресенья\n",
      "понедельником\n",
      "старости\n",
      "дураками\n",
      "настеньку\n",
      "одноклассниками\n",
      "старичку\n",
      "\n",
      "34\n"
     ]
    },
    {
     "name": "stderr",
     "output_type": "stream",
     "text": [
      "C:\\Users\\PC\\Anaconda3\\lib\\site-packages\\rnnmorph\\batch_generator.py:175: RuntimeWarning: invalid value encountered in true_divide\n",
      "  gram_value_indices[index:index + len(values)] = mask / s\n",
      "C:\\Users\\PC\\Anaconda3\\lib\\site-packages\\ipykernel_launcher.py:11: DeprecationWarning: Call to deprecated `__getitem__` (Method will be removed in 4.0.0, use self.wv.__getitem__() instead).\n",
      "  # This is added back by InteractiveShellApp.init_path()\n"
     ]
    },
    {
     "name": "stdout",
     "output_type": "stream",
     "text": [
      "жириновского\n",
      "жириновскому\n",
      "парапрезидент\n",
      "госсоветником\n",
      "ходорковского\n",
      "единороссов\n",
      "президентом\n",
      "справедливороссы\n",
      "медведевских\n",
      "президентами\n",
      "президента\n",
      "правительства\n",
      "президенту\n",
      "президентам\n",
      "президентов\n",
      "\n",
      "35\n"
     ]
    },
    {
     "name": "stderr",
     "output_type": "stream",
     "text": [
      "C:\\Users\\PC\\Anaconda3\\lib\\site-packages\\rnnmorph\\batch_generator.py:175: RuntimeWarning: invalid value encountered in true_divide\n",
      "  gram_value_indices[index:index + len(values)] = mask / s\n",
      "C:\\Users\\PC\\Anaconda3\\lib\\site-packages\\ipykernel_launcher.py:11: DeprecationWarning: Call to deprecated `__getitem__` (Method will be removed in 4.0.0, use self.wv.__getitem__() instead).\n",
      "  # This is added back by InteractiveShellApp.init_path()\n"
     ]
    },
    {
     "name": "stdout",
     "output_type": "stream",
     "text": [
      "америкосово\n",
      "националистами\n",
      "новороссирию\n",
      "евроамериканцами\n",
      "продовольствия\n",
      "жириновского\n",
      "сторонники\n",
      "великобритании\n",
      "американцами\n",
      "националистов\n",
      "предатели\n",
      "американцам\n",
      "американцев\n",
      "справедливороссы\n",
      "черномордина\n",
      "\n",
      "36\n"
     ]
    },
    {
     "name": "stderr",
     "output_type": "stream",
     "text": [
      "C:\\Users\\PC\\Anaconda3\\lib\\site-packages\\rnnmorph\\batch_generator.py:175: RuntimeWarning: invalid value encountered in true_divide\n",
      "  gram_value_indices[index:index + len(values)] = mask / s\n",
      "C:\\Users\\PC\\Anaconda3\\lib\\site-packages\\ipykernel_launcher.py:11: DeprecationWarning: Call to deprecated `__getitem__` (Method will be removed in 4.0.0, use self.wv.__getitem__() instead).\n",
      "  # This is added back by InteractiveShellApp.init_path()\n"
     ]
    },
    {
     "name": "stdout",
     "output_type": "stream",
     "text": [
      "задницами\n",
      "перепугу\n",
      "девственницами\n",
      "сволочи\n",
      "соломончика\n",
      "сковородкой\n",
      "старикашкой\n",
      "старики\n",
      "москалей\n",
      "бандуристом\n",
      "полотенец\n",
      "ботинками\n",
      "сковородку\n",
      "валенках\n",
      "печальки\n",
      "\n",
      "37\n"
     ]
    },
    {
     "name": "stderr",
     "output_type": "stream",
     "text": [
      "C:\\Users\\PC\\Anaconda3\\lib\\site-packages\\ipykernel_launcher.py:11: DeprecationWarning: Call to deprecated `__getitem__` (Method will be removed in 4.0.0, use self.wv.__getitem__() instead).\n",
      "  # This is added back by InteractiveShellApp.init_path()\n"
     ]
    },
    {
     "name": "stdout",
     "output_type": "stream",
     "text": [
      "гадости\n",
      "любовниками\n",
      "идиотом\n",
      "господючки\n",
      "невесту\n",
      "дураком\n",
      "невесты\n",
      "старости\n",
      "одиночестве\n",
      "настеньки\n",
      "пропасти\n",
      "глупости\n",
      "параноиком\n",
      "непетухом\n",
      "глупостей\n",
      "\n",
      "38\n"
     ]
    },
    {
     "name": "stderr",
     "output_type": "stream",
     "text": [
      "C:\\Users\\PC\\Anaconda3\\lib\\site-packages\\ipykernel_launcher.py:11: DeprecationWarning: Call to deprecated `__getitem__` (Method will be removed in 4.0.0, use self.wv.__getitem__() instead).\n",
      "  # This is added back by InteractiveShellApp.init_path()\n"
     ]
    },
    {
     "name": "stdout",
     "output_type": "stream",
     "text": [
      "острастки\n",
      "хренатень\n",
      "ботинками\n",
      "понаподнимали\n",
      "полотенчиком\n",
      "фрикадельками\n",
      "истерики\n",
      "холостякам\n",
      "спрашиваетвы\n",
      "стопарение\n",
      "бестолочей\n",
      "бородачем\n",
      "поворотника\n",
      "сковородкой\n",
      "перепонками\n",
      "\n",
      "39\n"
     ]
    },
    {
     "name": "stderr",
     "output_type": "stream",
     "text": [
      "C:\\Users\\PC\\Anaconda3\\lib\\site-packages\\ipykernel_launcher.py:11: DeprecationWarning: Call to deprecated `__getitem__` (Method will be removed in 4.0.0, use self.wv.__getitem__() instead).\n",
      "  # This is added back by InteractiveShellApp.init_path()\n"
     ]
    },
    {
     "name": "stdout",
     "output_type": "stream",
     "text": [
      "политкорректности\n",
      "остатками\n",
      "навального\n",
      "постороние\n",
      "недостатками\n",
      "самодостаточности\n",
      "соображений\n",
      "недоброжелатели\n",
      "единорогами\n",
      "подкаблучником\n",
      "просторы\n",
      "презервативы\n",
      "непонятности\n",
      "предрассудкам\n",
      "заковырестей\n",
      "\n",
      "40\n"
     ]
    },
    {
     "name": "stderr",
     "output_type": "stream",
     "text": [
      "C:\\Users\\PC\\Anaconda3\\lib\\site-packages\\ipykernel_launcher.py:11: DeprecationWarning: Call to deprecated `__getitem__` (Method will be removed in 4.0.0, use self.wv.__getitem__() instead).\n",
      "  # This is added back by InteractiveShellApp.init_path()\n"
     ]
    },
    {
     "name": "stdout",
     "output_type": "stream",
     "text": [
      "бездельники\n",
      "подворотням\n",
      "разговорчики\n",
      "дурачками\n",
      "корочками\n",
      "старики\n",
      "бездельнику\n",
      "навального\n",
      "четвереньках\n",
      "калиночка\n",
      "незнакомками\n",
      "сволочи\n",
      "старости\n",
      "сковороде\n",
      "головешки\n",
      "\n",
      "41\n"
     ]
    },
    {
     "name": "stderr",
     "output_type": "stream",
     "text": [
      "C:\\Users\\PC\\Anaconda3\\lib\\site-packages\\ipykernel_launcher.py:11: DeprecationWarning: Call to deprecated `__getitem__` (Method will be removed in 4.0.0, use self.wv.__getitem__() instead).\n",
      "  # This is added back by InteractiveShellApp.init_path()\n"
     ]
    },
    {
     "name": "stdout",
     "output_type": "stream",
     "text": [
      "родоначальниками\n",
      "тинаканделакивидение\n",
      "кинематографистов\n",
      "предатели\n",
      "соотечественника\n",
      "жириновского\n",
      "предводителей\n",
      "градоначальником\n",
      "трактористки\n",
      "пародиста\n",
      "сквернословием\n",
      "терминатора\n",
      "неломоносова\n",
      "бездельником\n",
      "сценариста\n",
      "\n",
      "42\n"
     ]
    },
    {
     "name": "stderr",
     "output_type": "stream",
     "text": [
      "C:\\Users\\PC\\Anaconda3\\lib\\site-packages\\rnnmorph\\batch_generator.py:175: RuntimeWarning: invalid value encountered in true_divide\n",
      "  gram_value_indices[index:index + len(values)] = mask / s\n",
      "C:\\Users\\PC\\Anaconda3\\lib\\site-packages\\ipykernel_launcher.py:11: DeprecationWarning: Call to deprecated `__getitem__` (Method will be removed in 4.0.0, use self.wv.__getitem__() instead).\n",
      "  # This is added back by InteractiveShellApp.init_path()\n"
     ]
    },
    {
     "name": "stdout",
     "output_type": "stream",
     "text": [
      "тарантасом\n",
      "москальська\n",
      "москалику\n",
      "киманегрыфисты\n",
      "товарищами\n",
      "настенькам\n",
      "гладиатором\n",
      "поговорками\n",
      "валенками\n",
      "напарнику\n",
      "навального\n",
      "москаля\n",
      "матроску\n",
      "жириновского\n",
      "пидорасами\n",
      "\n",
      "43\n"
     ]
    },
    {
     "name": "stderr",
     "output_type": "stream",
     "text": [
      "C:\\Users\\PC\\Anaconda3\\lib\\site-packages\\ipykernel_launcher.py:11: DeprecationWarning: Call to deprecated `__getitem__` (Method will be removed in 4.0.0, use self.wv.__getitem__() instead).\n",
      "  # This is added back by InteractiveShellApp.init_path()\n"
     ]
    },
    {
     "name": "stdout",
     "output_type": "stream",
     "text": [
      "женоненавистником\n",
      "женоненавистники\n",
      "пленниками\n",
      "навального\n",
      "стереотеливозоров\n",
      "бездельники\n",
      "растерянности\n",
      "девственницами\n",
      "поговорочки\n",
      "пристрастий\n",
      "подкаблучником\n",
      "воображения\n",
      "бессребреником\n",
      "голодомора\n",
      "старатели\n",
      "\n",
      "44\n"
     ]
    },
    {
     "name": "stderr",
     "output_type": "stream",
     "text": [
      "C:\\Users\\PC\\Anaconda3\\lib\\site-packages\\ipykernel_launcher.py:11: DeprecationWarning: Call to deprecated `__getitem__` (Method will be removed in 4.0.0, use self.wv.__getitem__() instead).\n",
      "  # This is added back by InteractiveShellApp.init_path()\n"
     ]
    },
    {
     "name": "stdout",
     "output_type": "stream",
     "text": [
      "предатели\n",
      "бессовестностью\n",
      "политкорректности\n",
      "патернализмом\n",
      "соплеменников\n",
      "жириновского\n",
      "справедливости\n",
      "соотечественниками\n",
      "госперевороте\n",
      "навального\n",
      "предателя\n",
      "крысятничество\n",
      "последователи\n",
      "остервенением\n",
      "сторонники\n",
      "\n",
      "45\n"
     ]
    },
    {
     "name": "stderr",
     "output_type": "stream",
     "text": [
      "C:\\Users\\PC\\Anaconda3\\lib\\site-packages\\ipykernel_launcher.py:11: DeprecationWarning: Call to deprecated `__getitem__` (Method will be removed in 4.0.0, use self.wv.__getitem__() instead).\n",
      "  # This is added back by InteractiveShellApp.init_path()\n"
     ]
    },
    {
     "name": "stdout",
     "output_type": "stream",
     "text": [
      "подстрекательстве\n",
      "соотечественники\n",
      "соотечественников\n",
      "постановлению\n",
      "финансистов\n",
      "правительству\n",
      "правительства\n",
      "правительством\n",
      "центризберком\n",
      "правительств\n",
      "константина\n",
      "налогоплательщиков\n",
      "правительстве\n",
      "правительсьва\n",
      "националистов\n",
      "\n",
      "46\n"
     ]
    },
    {
     "name": "stderr",
     "output_type": "stream",
     "text": [
      "C:\\Users\\PC\\Anaconda3\\lib\\site-packages\\ipykernel_launcher.py:11: DeprecationWarning: Call to deprecated `__getitem__` (Method will be removed in 4.0.0, use self.wv.__getitem__() instead).\n",
      "  # This is added back by InteractiveShellApp.init_path()\n"
     ]
    },
    {
     "name": "stdout",
     "output_type": "stream",
     "text": [
      "джентельменом\n",
      "программисты\n",
      "британии\n",
      "однополчанина\n",
      "трансформеров\n",
      "программиста\n",
      "приставки\n",
      "матросом\n",
      "дискотеке\n",
      "американцы\n",
      "разговорника\n",
      "поклонником\n",
      "скоростей\n",
      "страну\n",
      "интернете\n",
      "\n",
      "47\n"
     ]
    },
    {
     "name": "stderr",
     "output_type": "stream",
     "text": [
      "C:\\Users\\PC\\Anaconda3\\lib\\site-packages\\rnnmorph\\batch_generator.py:175: RuntimeWarning: invalid value encountered in true_divide\n",
      "  gram_value_indices[index:index + len(values)] = mask / s\n",
      "C:\\Users\\PC\\Anaconda3\\lib\\site-packages\\ipykernel_launcher.py:11: DeprecationWarning: Call to deprecated `__getitem__` (Method will be removed in 4.0.0, use self.wv.__getitem__() instead).\n",
      "  # This is added back by InteractiveShellApp.init_path()\n"
     ]
    },
    {
     "name": "stdout",
     "output_type": "stream",
     "text": [
      "москалей\n",
      "сидора\n",
      "стариками\n",
      "филиппом\n",
      "петросяну\n",
      "жириновского\n",
      "пристава\n",
      "василисе\n",
      "воробышки\n",
      "старика\n",
      "замордовайло\n",
      "петросяна\n",
      "василису\n",
      "анатольича\n",
      "старости\n",
      "\n",
      "48\n"
     ]
    },
    {
     "name": "stderr",
     "output_type": "stream",
     "text": [
      "C:\\Users\\PC\\Anaconda3\\lib\\site-packages\\ipykernel_launcher.py:11: DeprecationWarning: Call to deprecated `__getitem__` (Method will be removed in 4.0.0, use self.wv.__getitem__() instead).\n",
      "  # This is added back by InteractiveShellApp.init_path()\n"
     ]
    },
    {
     "name": "stdout",
     "output_type": "stream",
     "text": [
      "сволочи\n",
      "разговариваешъ\n",
      "старику\n",
      "непотребщину\n",
      "пакости\n",
      "зоренькой\n",
      "жалости\n",
      "старости\n",
      "половинку\n",
      "хреновину\n",
      "настеньке\n",
      "сковородкой\n",
      "сковородки\n",
      "перегара\n",
      "проклятье\n",
      "\n",
      "49\n"
     ]
    },
    {
     "name": "stderr",
     "output_type": "stream",
     "text": [
      "C:\\Users\\PC\\Anaconda3\\lib\\site-packages\\ipykernel_launcher.py:11: DeprecationWarning: Call to deprecated `__getitem__` (Method will be removed in 4.0.0, use self.wv.__getitem__() instead).\n",
      "  # This is added back by InteractiveShellApp.init_path()\n"
     ]
    },
    {
     "name": "stdout",
     "output_type": "stream",
     "text": [
      "напарника\n",
      "перепугу\n",
      "магнитогорска\n",
      "кондуктора\n",
      "бронетраспортера\n",
      "пассатижами\n",
      "владивостока\n",
      "карманника\n",
      "переспрашивания\n",
      "бронетранспортером\n",
      "лодители\n",
      "навального\n",
      "дворниками\n",
      "бронежилетах\n",
      "топором\n",
      "\n"
     ]
    }
   ],
   "source": [
    "for c in range(50):\n",
    "    print(c)\n",
    "    print(cluster_top_based_on_equclidian_distance(c))\n",
    "    print()"
   ]
  },
  {
   "cell_type": "code",
   "execution_count": 29,
   "metadata": {},
   "outputs": [],
   "source": [
    "from sklearn.model_selection import train_test_split"
   ]
  },
  {
   "cell_type": "code",
   "execution_count": 63,
   "metadata": {},
   "outputs": [
    {
     "name": "stderr",
     "output_type": "stream",
     "text": [
      "C:\\Users\\PC\\Anaconda3\\lib\\site-packages\\sklearn\\model_selection\\_split.py:2069: FutureWarning: From version 0.21, test_size will always complement train_size unless both are specified.\n",
      "  FutureWarning)\n"
     ]
    },
    {
     "data": {
      "text/plain": [
       "(1357,)"
      ]
     },
     "execution_count": 63,
     "metadata": {},
     "output_type": "execute_result"
    }
   ],
   "source": [
    "joke_part, _, labels_part, _ = train_test_split(texts, knn.labels_, train_size = 0.01, stratify=knn.labels_)\n",
    "joke_part.shape"
   ]
  },
  {
   "cell_type": "code",
   "execution_count": 64,
   "metadata": {},
   "outputs": [],
   "source": [
    "joke_part_vectors = vectorizer.fit(joke_part)"
   ]
  },
  {
   "cell_type": "code",
   "execution_count": 67,
   "metadata": {},
   "outputs": [],
   "source": [
    "from sklearn.manifold import TSNE\n",
    "\n",
    "tsne = TSNE(n_components=2, random_state=42, metric='cosine')\n",
    "xy = tsne.fit_transform(joke_part_vectors)"
   ]
  },
  {
   "cell_type": "code",
   "execution_count": 68,
   "metadata": {},
   "outputs": [
    {
     "data": {
      "image/png": "[encoded data removed]",
      "text/plain": [
       "<Figure size 1080x1080 with 1 Axes>"
      ]
     },
     "metadata": {},
     "output_type": "display_data"
    }
   ],
   "source": [
    "import matplotlib.pyplot as plt\n",
    "\n",
    "x=xy[:, 0]\n",
    "y=xy[:, 1]\n",
    "classes = labels_part\n",
    "unique = list(set(classes))\n",
    "colors = [plt.cm.jet(float(i)/max(unique)) for i in unique]\n",
    "plt.figure(figsize=(15, 15))\n",
    "for i, u in enumerate(unique):\n",
    "    xi = [x[j] for j  in range(len(x)) if classes[j] == u]\n",
    "    yi = [y[j] for j  in range(len(x)) if classes[j] == u]\n",
    "    plt.scatter(xi, yi, c=colors[i], label=str(u))\n",
    "plt.legend()\n",
    "\n",
    "plt.show()"
   ]
  },
  {
   "cell_type": "code",
   "execution_count": null,
   "metadata": {},
   "outputs": [],
   "source": []
  }
 ],
 "metadata": {
  "kernelspec": {
   "display_name": "Python 3",
   "language": "python",
   "name": "python3"
  },
  "language_info": {
   "codemirror_mode": {
    "name": "ipython",
    "version": 3
   },
   "file_extension": ".py",
   "mimetype": "text/x-python",
   "name": "python",
   "nbconvert_exporter": "python",
   "pygments_lexer": "ipython3",
   "version": "3.6.5"
  }
 },
 "nbformat": 4,
 "nbformat_minor": 2
}
