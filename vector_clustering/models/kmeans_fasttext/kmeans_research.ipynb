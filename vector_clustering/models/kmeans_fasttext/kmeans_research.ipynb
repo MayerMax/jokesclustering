{
 "cells": [
  {
   "cell_type": "code",
   "execution_count": 1,
   "metadata": {},
   "outputs": [],
   "source": [
    "import sys\n",
    "import pandas as pd\n",
    "sys.path.append('/Users/smallhamster/Documents/research/jokesclustering/') # ваш путь до корня проекта\n",
    "from components import FasttextVectorizer, KmeansSimpleClusterExtractor\n",
    "from vector_clustering.abstract.model import Model\n",
    "from vector_clustering.data.manager import get_jokes_as_dataframe, load_pandas_csv\n",
    "from sklearn.cluster import KMeans"
   ]
  },
  {
   "cell_type": "markdown",
   "metadata": {},
   "source": [
    "### 1. Инициализируем все необходимое"
   ]
  },
  {
   "cell_type": "code",
   "execution_count": 2,
   "metadata": {},
   "outputs": [
    {
     "data": {
      "text/html": [
       "<div>\n",
       "<style scoped>\n",
       "    .dataframe tbody tr th:only-of-type {\n",
       "        vertical-align: middle;\n",
       "    }\n",
       "\n",
       "    .dataframe tbody tr th {\n",
       "        vertical-align: top;\n",
       "    }\n",
       "\n",
       "    .dataframe thead th {\n",
       "        text-align: right;\n",
       "    }\n",
       "</style>\n",
       "<table border=\"1\" class=\"dataframe\">\n",
       "  <thead>\n",
       "    <tr style=\"text-align: right;\">\n",
       "      <th></th>\n",
       "      <th>joke_text</th>\n",
       "    </tr>\n",
       "  </thead>\n",
       "  <tbody>\n",
       "    <tr>\n",
       "      <th>0</th>\n",
       "      <td>Мужчину трудно задеть за живое, но уж если зад...</td>\n",
       "    </tr>\n",
       "    <tr>\n",
       "      <th>1</th>\n",
       "      <td>В нашем кемпинге строго запрещено людям разног...</td>\n",
       "    </tr>\n",
       "    <tr>\n",
       "      <th>2</th>\n",
       "      <td>А как хорошо у девушек начинается: любимый: ми...</td>\n",
       "    </tr>\n",
       "    <tr>\n",
       "      <th>3</th>\n",
       "      <td>Только у нас фраза \"поправить здоровье\" означа...</td>\n",
       "    </tr>\n",
       "    <tr>\n",
       "      <th>4</th>\n",
       "      <td>Одна белка случайно попробовала пиво и поняла,...</td>\n",
       "    </tr>\n",
       "  </tbody>\n",
       "</table>\n",
       "</div>"
      ],
      "text/plain": [
       "                                           joke_text\n",
       "0  Мужчину трудно задеть за живое, но уж если зад...\n",
       "1  В нашем кемпинге строго запрещено людям разног...\n",
       "2  А как хорошо у девушек начинается: любимый: ми...\n",
       "3  Только у нас фраза \"поправить здоровье\" означа...\n",
       "4  Одна белка случайно попробовала пиво и поняла,..."
      ]
     },
     "execution_count": 2,
     "metadata": {},
     "output_type": "execute_result"
    }
   ],
   "source": [
    "jokes = get_jokes_as_dataframe()\n",
    "jokes.head()"
   ]
  },
  {
   "cell_type": "code",
   "execution_count": 3,
   "metadata": {},
   "outputs": [
    {
     "data": {
      "text/html": [
       "<div>\n",
       "<style scoped>\n",
       "    .dataframe tbody tr th:only-of-type {\n",
       "        vertical-align: middle;\n",
       "    }\n",
       "\n",
       "    .dataframe tbody tr th {\n",
       "        vertical-align: top;\n",
       "    }\n",
       "\n",
       "    .dataframe thead th {\n",
       "        text-align: right;\n",
       "    }\n",
       "</style>\n",
       "<table border=\"1\" class=\"dataframe\">\n",
       "  <thead>\n",
       "    <tr style=\"text-align: right;\">\n",
       "      <th></th>\n",
       "      <th>joke_index</th>\n",
       "      <th>joke_text</th>\n",
       "      <th>joke_topics</th>\n",
       "    </tr>\n",
       "  </thead>\n",
       "  <tbody>\n",
       "    <tr>\n",
       "      <th>0</th>\n",
       "      <td>75622</td>\n",
       "      <td>Вот и минул ещё один день дурака. Но хватит о ...</td>\n",
       "      <td>политика</td>\n",
       "    </tr>\n",
       "    <tr>\n",
       "      <th>1</th>\n",
       "      <td>88009</td>\n",
       "      <td>Китайские космонавты после успешно завершенной...</td>\n",
       "      <td>национальность</td>\n",
       "    </tr>\n",
       "    <tr>\n",
       "      <th>2</th>\n",
       "      <td>20296</td>\n",
       "      <td>Украина - единственная страна мира, где грипп ...</td>\n",
       "      <td>политика</td>\n",
       "    </tr>\n",
       "    <tr>\n",
       "      <th>3</th>\n",
       "      <td>45900</td>\n",
       "      <td>Временно исполняющий обязанности президента ма...</td>\n",
       "      <td>политика</td>\n",
       "    </tr>\n",
       "    <tr>\n",
       "      <th>4</th>\n",
       "      <td>52912</td>\n",
       "      <td>Решение наболевшего дела проще, чем вы там себ...</td>\n",
       "      <td>жизнь</td>\n",
       "    </tr>\n",
       "  </tbody>\n",
       "</table>\n",
       "</div>"
      ],
      "text/plain": [
       "   joke_index                                          joke_text  \\\n",
       "0       75622  Вот и минул ещё один день дурака. Но хватит о ...   \n",
       "1       88009  Китайские космонавты после успешно завершенной...   \n",
       "2       20296  Украина - единственная страна мира, где грипп ...   \n",
       "3       45900  Временно исполняющий обязанности президента ма...   \n",
       "4       52912  Решение наболевшего дела проще, чем вы там себ...   \n",
       "\n",
       "      joke_topics  \n",
       "0        политика  \n",
       "1  национальность  \n",
       "2        политика  \n",
       "3        политика  \n",
       "4           жизнь  "
      ]
     },
     "execution_count": 3,
     "metadata": {},
     "output_type": "execute_result"
    }
   ],
   "source": [
    "selected = load_pandas_csv('100_manual_selection.csv')\n",
    "selected.head()"
   ]
  },
  {
   "cell_type": "code",
   "execution_count": 4,
   "metadata": {},
   "outputs": [],
   "source": [
    "topics = selected.joke_topics.values\n",
    "unique_topics = set()\n",
    "for topic in topics:\n",
    "    unique_topics.update([x.strip() for x in topic.split(',')])"
   ]
  },
  {
   "cell_type": "markdown",
   "metadata": {},
   "source": [
    "Ручной анализ тем в 100 случайных шутках, показал, что мы наблюдаем следующие темы:"
   ]
  },
  {
   "cell_type": "code",
   "execution_count": 5,
   "metadata": {},
   "outputs": [
    {
     "data": {
      "text/plain": [
       "{'алкоголь',\n",
       " 'армия',\n",
       " 'деньги',\n",
       " 'еда',\n",
       " 'жадность',\n",
       " 'животные',\n",
       " 'жизнь',\n",
       " 'зависть',\n",
       " 'игра слов',\n",
       " 'имя',\n",
       " 'история',\n",
       " 'компьютер',\n",
       " 'лгбт',\n",
       " 'лень',\n",
       " 'мат',\n",
       " 'медицина',\n",
       " 'менты',\n",
       " 'мигранты',\n",
       " 'наркота',\n",
       " 'национальность',\n",
       " 'непонятно',\n",
       " 'образование',\n",
       " 'отдых',\n",
       " 'отношения',\n",
       " 'плагиат',\n",
       " 'погода',\n",
       " 'пол',\n",
       " 'политика',\n",
       " 'пошлятина',\n",
       " 'праздники',\n",
       " 'преступление',\n",
       " 'работа',\n",
       " 'расизм',\n",
       " 'сарказм',\n",
       " 'семья',\n",
       " 'спорт',\n",
       " 'студенты',\n",
       " 'туристы',\n",
       " 'тюрьма',\n",
       " 'штирлиц',\n",
       " 'экономика',\n",
       " 'эстрада'}"
      ]
     },
     "execution_count": 5,
     "metadata": {},
     "output_type": "execute_result"
    }
   ],
   "source": [
    "unique_topics"
   ]
  },
  {
   "cell_type": "code",
   "execution_count": 6,
   "metadata": {},
   "outputs": [
    {
     "data": {
      "text/plain": [
       "42"
      ]
     },
     "execution_count": 6,
     "metadata": {},
     "output_type": "execute_result"
    }
   ],
   "source": [
    "len(unique_topics)"
   ]
  },
  {
   "cell_type": "markdown",
   "metadata": {},
   "source": [
    "предположим, что на самом деле тем на 20% больше, откуда следует, что будем искать следующее число кластеров:"
   ]
  },
  {
   "cell_type": "code",
   "execution_count": 8,
   "metadata": {},
   "outputs": [
    {
     "data": {
      "text/plain": [
       "50"
      ]
     },
     "execution_count": 8,
     "metadata": {},
     "output_type": "execute_result"
    }
   ],
   "source": [
    "len(unique_topics) + int(len(unique_topics) * 0.2)"
   ]
  },
  {
   "cell_type": "markdown",
   "metadata": {},
   "source": [
    "### 2. Выделим кластеры"
   ]
  },
  {
   "cell_type": "markdown",
   "metadata": {},
   "source": [
    "Проинициалазируем все необходимое для работы: (если нужно)"
   ]
  },
  {
   "cell_type": "code",
   "execution_count": 8,
   "metadata": {},
   "outputs": [],
   "source": [
    "vectorizer = FasttextVectorizer()"
   ]
  },
  {
   "cell_type": "code",
   "execution_count": 9,
   "metadata": {},
   "outputs": [],
   "source": [
    "kmeans_model = KMeans(n_clusters=50, random_state=42)"
   ]
  },
  {
   "cell_type": "code",
   "execution_count": 10,
   "metadata": {},
   "outputs": [],
   "source": [
    "cluster_extractor = KmeansSimpleClusterExtractor(kmeans_model)"
   ]
  },
  {
   "cell_type": "code",
   "execution_count": 11,
   "metadata": {},
   "outputs": [],
   "source": [
    "model = Model(vectorizer, cluster_extractor)"
   ]
  },
  {
   "cell_type": "markdown",
   "metadata": {},
   "source": [
    "Подготови тексты и обучим модель:"
   ]
  },
  {
   "cell_type": "code",
   "execution_count": 12,
   "metadata": {},
   "outputs": [],
   "source": [
    "texts = jokes.joke_text.values"
   ]
  },
  {
   "cell_type": "code",
   "execution_count": 13,
   "metadata": {},
   "outputs": [
    {
     "data": {
      "text/plain": [
       "(136338,)"
      ]
     },
     "execution_count": 13,
     "metadata": {},
     "output_type": "execute_result"
    }
   ],
   "source": [
    "texts.shape"
   ]
  },
  {
   "cell_type": "code",
   "execution_count": 14,
   "metadata": {},
   "outputs": [
    {
     "name": "stdout",
     "output_type": "stream",
     "text": [
      "vectorizer is fitted\n",
      "clustering model is fitted\n"
     ]
    }
   ],
   "source": [
    "demo = model.fit(texts)"
   ]
  },
  {
   "cell_type": "code",
   "execution_count": 15,
   "metadata": {},
   "outputs": [
    {
     "data": {
      "text/plain": [
       "['knn_fasttext.pkl']"
      ]
     },
     "execution_count": 15,
     "metadata": {},
     "output_type": "execute_result"
    }
   ],
   "source": [
    "from sklearn.externals import joblib\n",
    "joblib.dump(model.get_model(), 'knn_fasttext.pkl') "
   ]
  },
  {
   "cell_type": "code",
   "execution_count": 17,
   "metadata": {},
   "outputs": [],
   "source": [
    "jokes['cluster_id'] = model.get_model().labels_"
   ]
  },
  {
   "cell_type": "code",
   "execution_count": 28,
   "metadata": {},
   "outputs": [],
   "source": [
    "def get_random_n_jokes(cluster_id, n):\n",
    "    return jokes[jokes.cluster_id == cluster_id].sample(n)"
   ]
  },
  {
   "cell_type": "code",
   "execution_count": 29,
   "metadata": {},
   "outputs": [
    {
     "data": {
      "text/html": [
       "<div>\n",
       "<style scoped>\n",
       "    .dataframe tbody tr th:only-of-type {\n",
       "        vertical-align: middle;\n",
       "    }\n",
       "\n",
       "    .dataframe tbody tr th {\n",
       "        vertical-align: top;\n",
       "    }\n",
       "\n",
       "    .dataframe thead th {\n",
       "        text-align: right;\n",
       "    }\n",
       "</style>\n",
       "<table border=\"1\" class=\"dataframe\">\n",
       "  <thead>\n",
       "    <tr style=\"text-align: right;\">\n",
       "      <th></th>\n",
       "      <th>joke_text</th>\n",
       "      <th>cluster_id</th>\n",
       "    </tr>\n",
       "  </thead>\n",
       "  <tbody>\n",
       "    <tr>\n",
       "      <th>20222</th>\n",
       "      <td>Нет смысла спорить с мужчинами — они все равно...</td>\n",
       "      <td>18</td>\n",
       "    </tr>\n",
       "    <tr>\n",
       "      <th>101319</th>\n",
       "      <td>Судья - пожилой свидетельнице: - Ваш возраст? ...</td>\n",
       "      <td>18</td>\n",
       "    </tr>\n",
       "    <tr>\n",
       "      <th>62415</th>\n",
       "      <td>Две подруги: - Скажи тебе понравился мужчина, ...</td>\n",
       "      <td>18</td>\n",
       "    </tr>\n",
       "    <tr>\n",
       "      <th>54236</th>\n",
       "      <td>- Холмс, кто же оказался в наибольшем выигрыше...</td>\n",
       "      <td>18</td>\n",
       "    </tr>\n",
       "    <tr>\n",
       "      <th>96366</th>\n",
       "      <td>В общественном транспорте едет женщина с детск...</td>\n",
       "      <td>18</td>\n",
       "    </tr>\n",
       "  </tbody>\n",
       "</table>\n",
       "</div>"
      ],
      "text/plain": [
       "                                                joke_text  cluster_id\n",
       "20222   Нет смысла спорить с мужчинами — они все равно...          18\n",
       "101319  Судья - пожилой свидетельнице: - Ваш возраст? ...          18\n",
       "62415   Две подруги: - Скажи тебе понравился мужчина, ...          18\n",
       "54236   - Холмс, кто же оказался в наибольшем выигрыше...          18\n",
       "96366   В общественном транспорте едет женщина с детск...          18"
      ]
     },
     "execution_count": 29,
     "metadata": {},
     "output_type": "execute_result"
    }
   ],
   "source": [
    "unique_ids = jokes.cluster_id.unique()\n",
    "df = get_random_n_jokes(unique_ids[0], 5)\n",
    "for cluster_id in unique_ids[1:]:\n",
    "    df = df.append(get_random_n_jokes(cluster_id, 5))\n",
    "df.head()"
   ]
  },
  {
   "cell_type": "markdown",
   "metadata": {},
   "source": [
    "### 3. Оценим результаты"
   ]
  },
  {
   "cell_type": "code",
   "execution_count": 31,
   "metadata": {},
   "outputs": [],
   "source": [
    "df['score'] = 0\n",
    "df.to_csv('scoring.csv', index=False)"
   ]
  },
  {
   "cell_type": "code",
   "execution_count": 91,
   "metadata": {},
   "outputs": [
    {
     "name": "stdout",
     "output_type": "stream",
     "text": [
      "Наказание за уровень алкоголя в крови 0.05‰ (естественный уровень непьющего человека) и 5.00‰ (в стельку пьян) - одинаковые. А если нет разницы - зачем ездить трезвым?\n",
      "\n",
      "Большинство очаровательных с первого взгляда девушек со второго взгляда оказываются разочаровательными.\n",
      "\n",
      "Ирония - это то, что позволяет похвалить человека так, чтобы он обиделся.\n",
      "\n",
      "Прислушивайтесь к себе, хороший человек плохого не посоветует.\n",
      "\n",
      "в последнее время, захожу вконтакт только ради общения с одним человеком.\n"
     ]
    }
   ],
   "source": [
    "print('\\n\\n'.join(df[df.cluster_id == 0].joke_text.values))"
   ]
  },
  {
   "cell_type": "markdown",
   "metadata": {},
   "source": [
    "0 - ирония (повезло ??!?)\n",
    "1 - праздники и алкоголь (немного зашумлен)\n",
    "2 - спорт\n",
    "3 - ШУМ\n",
    "4 - пошлость, ШУМ\n",
    "5 - медицина, шутки про врачей\n",
    "6 - деньги\n",
    "7 - ШУМ\n",
    "8 - ШУМ\n",
    "9 - евреи + милиция + ШУМ\n",
    "10 - IT\n",
    "11 - политика + менталитет + ШУМ\n",
    "12 - ШУМ\n",
    "13 - политика + чиновники\n",
    "14 - ШУМ\n",
    "15 - ШУМ\n",
    "16 - алкоголь + ШУМ\n",
    "17 - еда + связанное с ней\n",
    "18 - сортирный юмор + отношения\n",
    "19 - национальности\n",
    "20 - экономика\n",
    "21 - деньги + IT\n",
    "22 - космос + ШУМ\n",
    "23 - чиновники + коррупция\n",
    "24 - купля-продажа\n",
    "25 - отношения + семья\n",
    "26 - ШУМ\n",
    "27 - дорожное движение + ШУМ\n",
    "28 - ШУМ + игра слова\n",
    "29 - бизнес\n",
    "30 - про анекдоты + ШУМ\n",
    "31 - армия + ШУМ\n",
    "32 - политика + ШУМ\n",
    "33 - Россия (национальность)\n",
    "34 - ШУМ\n",
    "35 - ШУМ\n",
    "36 - пол (м/ж)\n",
    "37 - пол (м/ж) + ШУМ\n",
    "38 - образование\n",
    "39 - политика\n",
    "40 - пол\n",
    "41 - Россия + ШУМ\n",
    "42 - ШУМ\n",
    "43 - ирония (повезло ??!?)\n",
    "44 - ШУМ\n",
    "45 - за жизнь\n",
    "46 - ирония + ШУМ\n",
    "47 - ШУМ\n",
    "48 - международные отношения\n",
    "49 - пол (м/ж) + ШУМ"
   ]
  },
  {
   "cell_type": "code",
   "execution_count": 26,
   "metadata": {},
   "outputs": [
    {
     "name": "stdout",
     "output_type": "stream",
     "text": [
      "я настолько ревнивый и сложный человек что со мной вообще лучше не связываться.я же сожру твой мозг,чувак.\n",
      "\n",
      "Твоя жизнь как рок-н-ролл: только без секса, наркотиков и рок-н-ролла.\n",
      "\n",
      "- Если ли жизнь после смерти? - После такой жизни, как наша, все может быть.\n",
      "\n",
      "Путин с Медведевым переживали-переживали за рассейский народ. Переживали-переживали... И пережили.\n",
      "\n",
      "Часто в нашей жизни настоящее больше влияет на прошлое, чем на будущее: так пьяный милиционер, сбивший за рулем человека, оказывается уволенным из органов еще вчера.\n"
     ]
    }
   ],
   "source": [
    "get_random_cluster_id_n_jokes(0, 5)"
   ]
  },
  {
   "cell_type": "markdown",
   "metadata": {},
   "source": [
    "### 4. Дальнейший анализ"
   ]
  },
  {
   "cell_type": "markdown",
   "metadata": {},
   "source": [
    "найдем самый популяные слова каждого кластера"
   ]
  },
  {
   "cell_type": "code",
   "execution_count": 12,
   "metadata": {},
   "outputs": [],
   "source": [
    "from sklearn.externals import joblib\n",
    "model = joblib.load('knn_fasttext.pkl')"
   ]
  },
  {
   "cell_type": "code",
   "execution_count": 13,
   "metadata": {},
   "outputs": [],
   "source": [
    "jokes['cluster_id'] = model.labels_"
   ]
  },
  {
   "cell_type": "code",
   "execution_count": 39,
   "metadata": {},
   "outputs": [],
   "source": [
    "import pymorphy2\n",
    "from pymorphy2.tokenizers import simple_word_tokenize\n",
    "import string\n",
    "analyzer = pymorphy2.MorphAnalyzer()"
   ]
  },
  {
   "cell_type": "code",
   "execution_count": 37,
   "metadata": {},
   "outputs": [],
   "source": [
    "def lemmatize(text):\n",
    "    text = [x for x in simple_word_tokenize(text) if x not in string.punctuation]\n",
    "    text = [analyzer.parse(x)[0].normal_form for x in text]\n",
    "    return ' '.join(text)"
   ]
  },
  {
   "cell_type": "code",
   "execution_count": 42,
   "metadata": {},
   "outputs": [],
   "source": [
    "from sklearn.feature_extraction.text import TfidfVectorizer\n",
    "import numpy as np\n",
    "\n",
    "def get_top_words(cluster_id, top_n=15):\n",
    "    cluster = jokes[jokes.cluster_id == cluster_id]\n",
    "    cluster['lemmatized'] = cluster.joke_text.apply(lemmatize)\n",
    "    tfidf = TfidfVectorizer()\n",
    "    tfidf.fit(cluster.lemmatized.values)\n",
    "    indices = np.argsort(tfidf.idf_)[::-1]\n",
    "    features = tfidf.get_feature_names()\n",
    "    top_features = [features[i] for i in indices[:top_n]]\n",
    "    return top_features"
   ]
  },
  {
   "cell_type": "code",
   "execution_count": 43,
   "metadata": {},
   "outputs": [
    {
     "name": "stderr",
     "output_type": "stream",
     "text": [
      "/Library/Frameworks/Python.framework/Versions/3.6/lib/python3.6/site-packages/ipykernel_launcher.py:6: SettingWithCopyWarning: \n",
      "A value is trying to be set on a copy of a slice from a DataFrame.\n",
      "Try using .loc[row_indexer,col_indexer] = value instead\n",
      "\n",
      "See the caveats in the documentation: http://pandas.pydata.org/pandas-docs/stable/indexing.html#indexing-view-versus-copy\n",
      "  \n"
     ]
    },
    {
     "data": {
      "text/plain": [
       "['ёлка',\n",
       " 'очеловечиться',\n",
       " 'дискуссия',\n",
       " 'отрывать',\n",
       " 'отрываться',\n",
       " 'отсек',\n",
       " 'отсидеть',\n",
       " 'дискетка',\n",
       " 'дискета',\n",
       " 'отчётливо',\n",
       " 'ох',\n",
       " 'динозавр',\n",
       " 'оцифровать',\n",
       " 'динамик',\n",
       " 'отправить']"
      ]
     },
     "execution_count": 43,
     "metadata": {},
     "output_type": "execute_result"
    }
   ],
   "source": [
    "get_top_words(10)"
   ]
  },
  {
   "cell_type": "code",
   "execution_count": 44,
   "metadata": {},
   "outputs": [
    {
     "name": "stderr",
     "output_type": "stream",
     "text": [
      "  0%|          | 0/50 [00:00<?, ?it/s]/Library/Frameworks/Python.framework/Versions/3.6/lib/python3.6/site-packages/ipykernel_launcher.py:6: SettingWithCopyWarning: \n",
      "A value is trying to be set on a copy of a slice from a DataFrame.\n",
      "Try using .loc[row_indexer,col_indexer] = value instead\n",
      "\n",
      "See the caveats in the documentation: http://pandas.pydata.org/pandas-docs/stable/indexing.html#indexing-view-versus-copy\n",
      "  \n",
      "100%|██████████| 50/50 [16:14<00:00, 21.70s/it]\n"
     ]
    }
   ],
   "source": [
    "import tqdm\n",
    "results = []\n",
    "for i in tqdm.tqdm(range(50)):\n",
    "    results.append(get_top_words(i))"
   ]
  },
  {
   "cell_type": "code",
   "execution_count": 47,
   "metadata": {},
   "outputs": [
    {
     "data": {
      "text/plain": [
       "['ёлы',\n",
       " 'пoзнакoмиться',\n",
       " 'пpемия',\n",
       " 'пpиводить',\n",
       " 'пpигpозить',\n",
       " 'пpиглашать',\n",
       " 'пpиказать',\n",
       " 'пpилавок',\n",
       " 'пpинести',\n",
       " 'пpипоминать',\n",
       " 'грань',\n",
       " 'пpоyлка',\n",
       " 'пpодавщица',\n",
       " 'пpолетаpский',\n",
       " 'пpосто']"
      ]
     },
     "execution_count": 47,
     "metadata": {},
     "output_type": "execute_result"
    }
   ],
   "source": [
    "results[3]"
   ]
  },
  {
   "cell_type": "code",
   "execution_count": 49,
   "metadata": {},
   "outputs": [],
   "source": [
    "with open('top-10-words-by-cluster.txt', 'w') as f:\n",
    "    for i, res in enumerate(results):\n",
    "        f.write('Cluster {}\\n'.format(i))\n",
    "        for word in res:\n",
    "            f.write(word)\n",
    "            f.write('\\n')\n",
    "        f.write('\\n')"
   ]
  }
 ],
 "metadata": {
  "kernelspec": {
   "display_name": "Python 3",
   "language": "python",
   "name": "python3"
  },
  "language_info": {
   "codemirror_mode": {
    "name": "ipython",
    "version": 3
   },
   "file_extension": ".py",
   "mimetype": "text/x-python",
   "name": "python",
   "nbconvert_exporter": "python",
   "pygments_lexer": "ipython3",
   "version": "3.6.2"
  }
 },
 "nbformat": 4,
 "nbformat_minor": 2
}
