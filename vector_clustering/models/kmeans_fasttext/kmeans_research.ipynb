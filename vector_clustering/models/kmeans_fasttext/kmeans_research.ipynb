{
 "cells": [
  {
   "cell_type": "code",
   "execution_count": 42,
   "metadata": {},
   "outputs": [],
   "source": [
    "import sys\n",
    "import pandas as pd\n",
    "sys.path.append('/Users/smallhamster/Documents/research/jokesclustering/') # ваш путь до корня проекта\n",
    "from components import FasttextVectorizer, KmeansSimpleClusterExtractor\n",
    "from vector_clustering.abstract.model import Model\n",
    "from vector_clustering.data.manager import get_jokes_as_dataframe, load_pandas_csv, load, ARANEUM_FASTTEXT\n",
    "from sklearn.cluster import KMeans"
   ]
  },
  {
   "cell_type": "markdown",
   "metadata": {},
   "source": [
    "### 1. Инициализируем все необходимое"
   ]
  },
  {
   "cell_type": "code",
   "execution_count": 3,
   "metadata": {},
   "outputs": [
    {
     "data": {
      "text/html": [
       "<div>\n",
       "<style scoped>\n",
       "    .dataframe tbody tr th:only-of-type {\n",
       "        vertical-align: middle;\n",
       "    }\n",
       "\n",
       "    .dataframe tbody tr th {\n",
       "        vertical-align: top;\n",
       "    }\n",
       "\n",
       "    .dataframe thead th {\n",
       "        text-align: right;\n",
       "    }\n",
       "</style>\n",
       "<table border=\"1\" class=\"dataframe\">\n",
       "  <thead>\n",
       "    <tr style=\"text-align: right;\">\n",
       "      <th></th>\n",
       "      <th>joke_text</th>\n",
       "    </tr>\n",
       "  </thead>\n",
       "  <tbody>\n",
       "    <tr>\n",
       "      <th>0</th>\n",
       "      <td>Мужчину трудно задеть за живое, но уж если зад...</td>\n",
       "    </tr>\n",
       "    <tr>\n",
       "      <th>1</th>\n",
       "      <td>В нашем кемпинге строго запрещено людям разног...</td>\n",
       "    </tr>\n",
       "    <tr>\n",
       "      <th>2</th>\n",
       "      <td>А как хорошо у девушек начинается: любимый: ми...</td>\n",
       "    </tr>\n",
       "    <tr>\n",
       "      <th>3</th>\n",
       "      <td>Только у нас фраза \"поправить здоровье\" означа...</td>\n",
       "    </tr>\n",
       "    <tr>\n",
       "      <th>4</th>\n",
       "      <td>Одна белка случайно попробовала пиво и поняла,...</td>\n",
       "    </tr>\n",
       "  </tbody>\n",
       "</table>\n",
       "</div>"
      ],
      "text/plain": [
       "                                           joke_text\n",
       "0  Мужчину трудно задеть за живое, но уж если зад...\n",
       "1  В нашем кемпинге строго запрещено людям разног...\n",
       "2  А как хорошо у девушек начинается: любимый: ми...\n",
       "3  Только у нас фраза \"поправить здоровье\" означа...\n",
       "4  Одна белка случайно попробовала пиво и поняла,..."
      ]
     },
     "execution_count": 3,
     "metadata": {},
     "output_type": "execute_result"
    }
   ],
   "source": [
    "jokes = get_jokes_as_dataframe()\n",
    "jokes.head()"
   ]
  },
  {
   "cell_type": "code",
   "execution_count": 43,
   "metadata": {},
   "outputs": [
    {
     "data": {
      "text/html": [
       "<div>\n",
       "<style scoped>\n",
       "    .dataframe tbody tr th:only-of-type {\n",
       "        vertical-align: middle;\n",
       "    }\n",
       "\n",
       "    .dataframe tbody tr th {\n",
       "        vertical-align: top;\n",
       "    }\n",
       "\n",
       "    .dataframe thead th {\n",
       "        text-align: right;\n",
       "    }\n",
       "</style>\n",
       "<table border=\"1\" class=\"dataframe\">\n",
       "  <thead>\n",
       "    <tr style=\"text-align: right;\">\n",
       "      <th></th>\n",
       "      <th>joke_index</th>\n",
       "      <th>joke_text</th>\n",
       "      <th>joke_topics</th>\n",
       "    </tr>\n",
       "  </thead>\n",
       "  <tbody>\n",
       "    <tr>\n",
       "      <th>0</th>\n",
       "      <td>75622</td>\n",
       "      <td>Вот и минул ещё один день дурака. Но хватит о ...</td>\n",
       "      <td>политика</td>\n",
       "    </tr>\n",
       "    <tr>\n",
       "      <th>1</th>\n",
       "      <td>88009</td>\n",
       "      <td>Китайские космонавты после успешно завершенной...</td>\n",
       "      <td>национальность</td>\n",
       "    </tr>\n",
       "    <tr>\n",
       "      <th>2</th>\n",
       "      <td>20296</td>\n",
       "      <td>Украина - единственная страна мира, где грипп ...</td>\n",
       "      <td>политика</td>\n",
       "    </tr>\n",
       "    <tr>\n",
       "      <th>3</th>\n",
       "      <td>45900</td>\n",
       "      <td>Временно исполняющий обязанности президента ма...</td>\n",
       "      <td>политика</td>\n",
       "    </tr>\n",
       "    <tr>\n",
       "      <th>4</th>\n",
       "      <td>52912</td>\n",
       "      <td>Решение наболевшего дела проще, чем вы там себ...</td>\n",
       "      <td>жизнь</td>\n",
       "    </tr>\n",
       "  </tbody>\n",
       "</table>\n",
       "</div>"
      ],
      "text/plain": [
       "   joke_index                                          joke_text  \\\n",
       "0       75622  Вот и минул ещё один день дурака. Но хватит о ...   \n",
       "1       88009  Китайские космонавты после успешно завершенной...   \n",
       "2       20296  Украина - единственная страна мира, где грипп ...   \n",
       "3       45900  Временно исполняющий обязанности президента ма...   \n",
       "4       52912  Решение наболевшего дела проще, чем вы там себ...   \n",
       "\n",
       "      joke_topics  \n",
       "0        политика  \n",
       "1  национальность  \n",
       "2        политика  \n",
       "3        политика  \n",
       "4           жизнь  "
      ]
     },
     "execution_count": 43,
     "metadata": {},
     "output_type": "execute_result"
    }
   ],
   "source": [
    "selected = load_pandas_csv('100_manual_selection.csv')\n",
    "selected.head()"
   ]
  },
  {
   "cell_type": "code",
   "execution_count": 44,
   "metadata": {},
   "outputs": [],
   "source": [
    "topics = selected.joke_topics.values\n",
    "unique_topics = set()\n",
    "for topic in topics:\n",
    "    unique_topics.update([x.strip() for x in topic.split(',')])"
   ]
  },
  {
   "cell_type": "markdown",
   "metadata": {},
   "source": [
    "Ручной анализ тем в 100 случайных шутках, показал, что мы наблюдаем следующие темы:"
   ]
  },
  {
   "cell_type": "code",
   "execution_count": 45,
   "metadata": {},
   "outputs": [
    {
     "name": "stdout",
     "output_type": "stream",
     "text": [
      "{'национальность', 'компьютер', 'армия', 'политика', 'менты', 'алкоголь', 'история', 'деньги', 'еда', 'животные', 'семья', 'пол', 'штирлиц', 'спорт', 'пошлятина', 'отдых', 'студенты', 'непонятно', 'работа', 'лгбт', 'преступление', 'эстрада', 'плагиат', 'праздники', 'лень', 'туристы', 'медицина', 'расизм', 'игра слов', 'погода', 'сарказм', 'отношения', 'мигранты', 'имя', 'экономика', 'мат', 'жизнь', 'зависть', 'образование', 'тюрьма', 'жадность', 'наркота'}\n"
     ]
    }
   ],
   "source": [
    "print(unique_topics)"
   ]
  },
  {
   "cell_type": "code",
   "execution_count": 46,
   "metadata": {},
   "outputs": [
    {
     "data": {
      "text/plain": [
       "42"
      ]
     },
     "execution_count": 46,
     "metadata": {},
     "output_type": "execute_result"
    }
   ],
   "source": [
    "len(unique_topics)"
   ]
  },
  {
   "cell_type": "markdown",
   "metadata": {},
   "source": [
    "предположим, что на самом деле тем на 20% больше, откуда следует, что будем искать следующее число кластеров:"
   ]
  },
  {
   "cell_type": "code",
   "execution_count": null,
   "metadata": {},
   "outputs": [],
   "source": [
    "len(unique_topics) + int(len(unique_topics) * 0.2)"
   ]
  },
  {
   "cell_type": "markdown",
   "metadata": {},
   "source": [
    "### 2. Выделим кластеры"
   ]
  },
  {
   "cell_type": "markdown",
   "metadata": {},
   "source": [
    "Проинициалазируем все необходимое для работы: (если нужно)"
   ]
  },
  {
   "cell_type": "code",
   "execution_count": null,
   "metadata": {},
   "outputs": [],
   "source": [
    "vectorizer = FasttextVectorizer()"
   ]
  },
  {
   "cell_type": "code",
   "execution_count": null,
   "metadata": {},
   "outputs": [],
   "source": [
    "kmeans_model = KMeans(n_clusters=50, random_state=42)"
   ]
  },
  {
   "cell_type": "code",
   "execution_count": null,
   "metadata": {},
   "outputs": [],
   "source": [
    "cluster_extractor = KmeansSimpleClusterExtractor(kmeans_model)"
   ]
  },
  {
   "cell_type": "code",
   "execution_count": null,
   "metadata": {},
   "outputs": [],
   "source": [
    "model = Model(vectorizer, cluster_extractor)"
   ]
  },
  {
   "cell_type": "markdown",
   "metadata": {},
   "source": [
    "Подготови тексты и обучим модель:"
   ]
  },
  {
   "cell_type": "code",
   "execution_count": null,
   "metadata": {},
   "outputs": [],
   "source": [
    "texts = jokes.joke_text.values"
   ]
  },
  {
   "cell_type": "code",
   "execution_count": null,
   "metadata": {},
   "outputs": [],
   "source": [
    "texts.shape"
   ]
  },
  {
   "cell_type": "code",
   "execution_count": null,
   "metadata": {},
   "outputs": [],
   "source": [
    "demo = model.fit(texts)"
   ]
  },
  {
   "cell_type": "code",
   "execution_count": null,
   "metadata": {},
   "outputs": [],
   "source": [
    "from sklearn.externals import joblib\n",
    "joblib.dump(model.get_model(), 'knn_fasttext.pkl') "
   ]
  },
  {
   "cell_type": "code",
   "execution_count": null,
   "metadata": {},
   "outputs": [],
   "source": [
    "jokes['cluster_id'] = model.get_model().labels_"
   ]
  },
  {
   "cell_type": "code",
   "execution_count": null,
   "metadata": {},
   "outputs": [],
   "source": [
    "def get_random_n_jokes(cluster_id, n):\n",
    "    return jokes[jokes.cluster_id == cluster_id].sample(n)"
   ]
  },
  {
   "cell_type": "code",
   "execution_count": null,
   "metadata": {},
   "outputs": [],
   "source": [
    "unique_ids = jokes.cluster_id.unique()\n",
    "df = get_random_n_jokes(unique_ids[0], 5)\n",
    "for cluster_id in unique_ids[1:]:\n",
    "    df = df.append(get_random_n_jokes(cluster_id, 5))\n",
    "df.head()"
   ]
  },
  {
   "cell_type": "markdown",
   "metadata": {},
   "source": [
    "### 3. Оценим результаты"
   ]
  },
  {
   "cell_type": "code",
   "execution_count": null,
   "metadata": {},
   "outputs": [],
   "source": [
    "df['score'] = 0\n",
    "df.to_csv('scoring.csv', index=False)"
   ]
  },
  {
   "cell_type": "code",
   "execution_count": null,
   "metadata": {},
   "outputs": [],
   "source": [
    "df = pd.read_csv('cluster_analysis.csv')"
   ]
  },
  {
   "cell_type": "code",
   "execution_count": null,
   "metadata": {},
   "outputs": [],
   "source": [
    "print('\\n\\n'.join(df[df.cluster_id == 47].joke_text.values))"
   ]
  },
  {
   "cell_type": "code",
   "execution_count": null,
   "metadata": {},
   "outputs": [],
   "source": [
    "for c in range(0, 50):\n",
    "    print(c, jokes[jokes.cluster_id == c].shape[0])"
   ]
  },
  {
   "cell_type": "markdown",
   "metadata": {},
   "source": [
    "0 - ирония (повезло ??!?) 2466\n",
    "1 - праздники и алкоголь (немного зашумлен)  2011\n",
    "2 - спорт 1685\n",
    "3 - ШУМ 4611\n",
    "4 - пошлость, ШУМ 1057\n",
    "5 - медицина, шутки про врачей 1964\n",
    "6 - деньги 1773\n",
    "7 - ШУМ  3023\n",
    "8 - ШУМ 5746\n",
    "9 - евреи + милиция + ШУМ 2711\n",
    "10 - IT 573\n",
    "11 - политика + менталитет + ШУМ 3289\n",
    "12 - ШУМ 2875\n",
    "13 - политика + чиновники 2684\n",
    "14 - ШУМ 3325\n",
    "15 - ШУМ 4027\n",
    "16 - алкоголь + ШУМ 4756\n",
    "17 - еда + связанное с ней\n",
    "18 - сортирный юмор + отношения\n",
    "19 - национальности\n",
    "20 - экономика\n",
    "21 - деньги + IT\n",
    "22 - космос + ШУМ\n",
    "23 - чиновники + коррупция\n",
    "24 - купля-продажа\n",
    "25 - отношения + семья\n",
    "26 - ШУМ\n",
    "27 - дорожное движение + ШУМ\n",
    "28 - ШУМ + игра слова\n",
    "29 - бизнес\n",
    "30 - про анекдоты + ШУМ\n",
    "31 - армия + ШУМ\n",
    "32 - политика + ШУМ\n",
    "33 - Россия (национальность)\n",
    "34 - ШУМ 2620\n",
    "35 - ШУМ 3779\n",
    "36 - пол (м/ж)\n",
    "37 - пол (м/ж) + ШУМ\n",
    "38 - образование 1925\n",
    "39 - политика 2492\n",
    "40 - пол 2578\n",
    "41 - Россия + ШУМ\n",
    "42 - ШУМ 3941\n",
    "43 - ирония (повезло ??!?)\n",
    "44 - ШУМ 3568\n",
    "45 - за жизнь\n",
    "46 - ирония + ШУМ 3643\n",
    "47 - ШУМ 3791\n",
    "48 - международные отношения\n",
    "49 - пол (м/ж) + ШУМ"
   ]
  },
  {
   "cell_type": "code",
   "execution_count": null,
   "metadata": {},
   "outputs": [],
   "source": [
    "get_random_cluster_id_n_jokes(0, 5)"
   ]
  },
  {
   "cell_type": "markdown",
   "metadata": {},
   "source": [
    "### 4. Дальнейший анализ"
   ]
  },
  {
   "cell_type": "markdown",
   "metadata": {},
   "source": [
    "найдем самый популяные слова каждого кластера"
   ]
  },
  {
   "cell_type": "code",
   "execution_count": null,
   "metadata": {},
   "outputs": [],
   "source": [
    "from sklearn.externals import joblib\n",
    "model = joblib.load('knn_fasttext.pkl')"
   ]
  },
  {
   "cell_type": "code",
   "execution_count": null,
   "metadata": {},
   "outputs": [],
   "source": [
    "jokes['cluster_id'] = model.labels_"
   ]
  },
  {
   "cell_type": "code",
   "execution_count": null,
   "metadata": {},
   "outputs": [],
   "source": [
    "import pymorphy2\n",
    "from pymorphy2.tokenizers import simple_word_tokenize\n",
    "import string\n",
    "analyzer = pymorphy2.MorphAnalyzer()"
   ]
  },
  {
   "cell_type": "code",
   "execution_count": null,
   "metadata": {},
   "outputs": [],
   "source": [
    "def lemmatize(text):\n",
    "    text = [x for x in simple_word_tokenize(text) if x not in string.punctuation]\n",
    "    text = [analyzer.parse(x)[0].normal_form for x in text]\n",
    "    return ' '.join(text)"
   ]
  },
  {
   "cell_type": "code",
   "execution_count": null,
   "metadata": {},
   "outputs": [],
   "source": [
    "from sklearn.feature_extraction.text import TfidfVectorizer\n",
    "import numpy as np\n",
    "\n",
    "def get_top_words(cluster_id, top_n=15):\n",
    "    cluster = jokes[jokes.cluster_id == cluster_id]\n",
    "    cluster['lemmatized'] = cluster.joke_text.apply(lemmatize)\n",
    "    tfidf = TfidfVectorizer()\n",
    "    tfidf.fit(cluster.lemmatized.values)\n",
    "    indices = np.argsort(tfidf.idf_)[::-1]\n",
    "    features = tfidf.get_feature_names()\n",
    "    top_features = [features[i] for i in indices[:top_n]]\n",
    "    return top_features"
   ]
  },
  {
   "cell_type": "code",
   "execution_count": null,
   "metadata": {},
   "outputs": [],
   "source": [
    "get_top_words(10)"
   ]
  },
  {
   "cell_type": "code",
   "execution_count": null,
   "metadata": {},
   "outputs": [],
   "source": [
    "import tqdm\n",
    "results = []\n",
    "for i in tqdm.tqdm(range(50)):\n",
    "    results.append(get_top_words(i))"
   ]
  },
  {
   "cell_type": "code",
   "execution_count": null,
   "metadata": {},
   "outputs": [],
   "source": [
    "results[3]"
   ]
  },
  {
   "cell_type": "code",
   "execution_count": null,
   "metadata": {},
   "outputs": [],
   "source": [
    "with open('top-10-words-by-cluster.txt', 'w') as f:\n",
    "    for i, res in enumerate(results):\n",
    "        f.write('Cluster {}\\n'.format(i))\n",
    "        for word in res:\n",
    "            f.write(word)\n",
    "            f.write('\\n')\n",
    "        f.write('\\n')"
   ]
  },
  {
   "cell_type": "markdown",
   "metadata": {},
   "source": [
    "### 5.Поиск топ слов для каждого кластера на основе близости вектора слова к центроиде"
   ]
  },
  {
   "cell_type": "code",
   "execution_count": 4,
   "metadata": {},
   "outputs": [],
   "source": [
    "from sklearn.externals import joblib\n",
    "model = joblib.load('knn_fasttext.pkl')"
   ]
  },
  {
   "cell_type": "code",
   "execution_count": 5,
   "metadata": {},
   "outputs": [],
   "source": [
    "import pymorphy2\n",
    "import numpy as np\n",
    "from pymorphy2.tokenizers import simple_word_tokenize\n",
    "import string\n",
    "analyzer = pymorphy2.MorphAnalyzer()"
   ]
  },
  {
   "cell_type": "code",
   "execution_count": 6,
   "metadata": {},
   "outputs": [],
   "source": [
    "jokes['cluster_id'] = model.labels_"
   ]
  },
  {
   "cell_type": "code",
   "execution_count": 12,
   "metadata": {},
   "outputs": [],
   "source": [
    "def nouns_in_joke(joke):\n",
    "    words = simple_word_tokenize(joke)\n",
    "    return [x.lower() for x in words if analyzer.parse(x)[0].tag.POS == 'NOUN']\n",
    "\n",
    "def cluster_nouns(cluster_id):\n",
    "    sub = jokes[jokes.cluster_id == cluster_id].joke_text.values\n",
    "    sub = [nouns_in_joke(x) for x in sub]\n",
    "    res = set()\n",
    "    for x in sub:\n",
    "        res.update(x)\n",
    "    return np.array(list(res))"
   ]
  },
  {
   "cell_type": "code",
   "execution_count": 8,
   "metadata": {},
   "outputs": [],
   "source": [
    "fasttext_wrapper = load(ARANEUM_FASTTEXT)"
   ]
  },
  {
   "cell_type": "code",
   "execution_count": 28,
   "metadata": {},
   "outputs": [],
   "source": [
    "from sklearn.metrics.pairwise import euclidean_distances\n",
    "\n",
    "def cluster_top_based_on_equclidian_distance(cluster_id, top=15):\n",
    "    centroid_vector = model.cluster_centers_[cluster_id]\n",
    "    nouns = cluster_nouns(cluster_id)\n",
    "    \n",
    "    vectores = []\n",
    "    words = []\n",
    "    for noun in nouns:\n",
    "        try:\n",
    "            vectores.append(fasttext_wrapper[noun])\n",
    "            words.append(noun)\n",
    "        except KeyError as e:\n",
    "            pass\n",
    "        \n",
    "    vectores = np.array(vectores)\n",
    "    nouns = np.array(words)\n",
    "    \n",
    "    distances = euclidean_distances(vectores, [centroid_vector])\n",
    "    distances_idx = np.argsort(np.ravel(distances))\n",
    "    min_dist_top = distances_idx[:top]\n",
    "    print(distances[min_dist_top])\n",
    "    words = nouns[min_dist_top]\n",
    "    return '\\n'.join(words)"
   ]
  },
  {
   "cell_type": "code",
   "execution_count": 30,
   "metadata": {},
   "outputs": [
    {
     "name": "stderr",
     "output_type": "stream",
     "text": [
      "/Library/Frameworks/Python.framework/Versions/3.6/lib/python3.6/site-packages/ipykernel_launcher.py:11: DeprecationWarning: Call to deprecated `__getitem__` (Method will be removed in 4.0.0, use self.wv.__getitem__() instead).\n",
      "  # This is added back by InteractiveShellApp.init_path()\n"
     ]
    },
    {
     "name": "stdout",
     "output_type": "stream",
     "text": [
      "[[0.1505993 ]\n",
      " [0.15260075]\n",
      " [0.15617454]\n",
      " [0.16016094]\n",
      " [0.16387317]\n",
      " [0.16812092]\n",
      " [0.17161429]\n",
      " [0.1716237 ]\n",
      " [0.17369813]\n",
      " [0.18063644]\n",
      " [0.18087688]\n",
      " [0.18315643]\n",
      " [0.18517503]\n",
      " [0.1874604 ]\n",
      " [0.1893295 ]]\n",
      "прохорова-кейгбоксинг\n",
      "футболистов-пофигистов\n",
      "родоначальниками\n",
      "зиновьева-морозова-счастливого-и-всех-всех-всех\n",
      "страны-победителем\n",
      "осьминог-предсказатель\n",
      "спортсменов-коммунистов\n",
      "тотализаторе\n",
      "суперпидорасов\n",
      "великобритании\n",
      "миллионеров-капиталистов\n",
      "футболист-матерщинник\n",
      "черепах-репортер\n",
      "наставления\n",
      "медведеве-багминтон\n"
     ]
    }
   ],
   "source": [
    "print(cluster_top_based_on_equclidian_distance(2))"
   ]
  },
  {
   "cell_type": "code",
   "execution_count": 24,
   "metadata": {},
   "outputs": [
    {
     "name": "stdout",
     "output_type": "stream",
     "text": [
      "0\n"
     ]
    },
    {
     "name": "stderr",
     "output_type": "stream",
     "text": [
      "/Library/Frameworks/Python.framework/Versions/3.6/lib/python3.6/site-packages/ipykernel_launcher.py:11: DeprecationWarning: Call to deprecated `__getitem__` (Method will be removed in 4.0.0, use self.wv.__getitem__() instead).\n",
      "  # This is added back by InteractiveShellApp.init_path()\n"
     ]
    },
    {
     "name": "stdout",
     "output_type": "stream",
     "text": [
      "покемонов-сетевик-патриот\n",
      "веган-вейпер-скейтер-йог-диджей-блоггер-модель-тату-зожник-призмафото-ловец\n",
      "современники\n",
      "несправедливости\n",
      "соображений\n",
      "противоположности\n",
      "соплеменников\n",
      "ангелом-хранителем\n",
      "презервативы\n",
      "наставлений\n",
      "привидений\n",
      "справедливости\n",
      "просторы\n",
      "пристрастиях\n",
      "недоразумения\n",
      "\n",
      "1\n"
     ]
    },
    {
     "name": "stderr",
     "output_type": "stream",
     "text": [
      "/Library/Frameworks/Python.framework/Versions/3.6/lib/python3.6/site-packages/ipykernel_launcher.py:11: DeprecationWarning: Call to deprecated `__getitem__` (Method will be removed in 4.0.0, use self.wv.__getitem__() instead).\n",
      "  # This is added back by InteractiveShellApp.init_path()\n"
     ]
    },
    {
     "name": "stdout",
     "output_type": "stream",
     "text": [
      "понедельником\n",
      "знаменитости\n",
      "понедельникам\n",
      "понедельника\n",
      "магнитогорска\n",
      "константина\n",
      "мужа-программиста\n",
      "понедельников\n",
      "владивостоке\n",
      "понедельник-то\n",
      "соседа-школьника\n",
      "москва-владивосток\n",
      "петрограде\n",
      "бездельники\n",
      "воскресеньем\n",
      "\n",
      "2\n"
     ]
    },
    {
     "name": "stderr",
     "output_type": "stream",
     "text": [
      "/Library/Frameworks/Python.framework/Versions/3.6/lib/python3.6/site-packages/ipykernel_launcher.py:11: DeprecationWarning: Call to deprecated `__getitem__` (Method will be removed in 4.0.0, use self.wv.__getitem__() instead).\n",
      "  # This is added back by InteractiveShellApp.init_path()\n"
     ]
    },
    {
     "name": "stdout",
     "output_type": "stream",
     "text": [
      "прохорова-кейгбоксинг\n",
      "футболистов-пофигистов\n",
      "родоначальниками\n",
      "зиновьева-морозова-счастливого-и-всех-всех-всех\n",
      "страны-победителем\n",
      "осьминог-предсказатель\n",
      "спортсменов-коммунистов\n",
      "тотализаторе\n",
      "суперпидорасов\n",
      "великобритании\n",
      "миллионеров-капиталистов\n",
      "футболист-матерщинник\n",
      "черепах-репортер\n",
      "наставления\n",
      "медведеве-багминтон\n",
      "\n",
      "3\n"
     ]
    },
    {
     "name": "stderr",
     "output_type": "stream",
     "text": [
      "/Library/Frameworks/Python.framework/Versions/3.6/lib/python3.6/site-packages/ipykernel_launcher.py:11: DeprecationWarning: Call to deprecated `__getitem__` (Method will be removed in 4.0.0, use self.wv.__getitem__() instead).\n",
      "  # This is added back by InteractiveShellApp.init_path()\n"
     ]
    },
    {
     "name": "stdout",
     "output_type": "stream",
     "text": [
      "борькой-трактористом\n",
      "подельником\n",
      "скороговорки\n",
      "одноклассниками\n",
      "племяннике-бездельнике\n",
      "терминатором\n",
      "одноклассником\n",
      "родственниками\n",
      "дочери-шестиклассницы\n",
      "ровесниками\n",
      "однокласниками\n",
      "одноклассника\n",
      "рабиновичей\n",
      "трактористки\n",
      "братьями-амбалами\n",
      "\n",
      "4\n"
     ]
    },
    {
     "name": "stderr",
     "output_type": "stream",
     "text": [
      "/Library/Frameworks/Python.framework/Versions/3.6/lib/python3.6/site-packages/ipykernel_launcher.py:11: DeprecationWarning: Call to deprecated `__getitem__` (Method will be removed in 4.0.0, use self.wv.__getitem__() instead).\n",
      "  # This is added back by InteractiveShellApp.init_path()\n"
     ]
    },
    {
     "name": "stdout",
     "output_type": "stream",
     "text": [
      "родственниками\n",
      "разговариваешъ\n",
      "автоинформатора\n",
      "дринк-собеседник\n",
      "дистанционку\n",
      "рабиновича\n",
      "администратора\n",
      "одноклассниках\n",
      "телефонистками\n",
      "оператора\n",
      "родственники\n",
      "злоумышленника-расиста\n",
      "операторам\n",
      "операторов\n",
      "мобильником\n",
      "\n",
      "5\n"
     ]
    },
    {
     "name": "stderr",
     "output_type": "stream",
     "text": [
      "/Library/Frameworks/Python.framework/Versions/3.6/lib/python3.6/site-packages/ipykernel_launcher.py:11: DeprecationWarning: Call to deprecated `__getitem__` (Method will be removed in 4.0.0, use self.wv.__getitem__() instead).\n",
      "  # This is added back by InteractiveShellApp.init_path()\n"
     ]
    },
    {
     "name": "stdout",
     "output_type": "stream",
     "text": [
      "учеными-стоматологами\n",
      "врачи-траснплантологи\n",
      "сторож-дистрофик\n",
      "врача-сексопатолога\n",
      "враче-трансплантологе\n",
      "головогружение\n",
      "предостережения\n",
      "стоматолога-протезиста\n",
      "коллеги-стоматологи\n",
      "сексопатологу\n",
      "проститутка-стажерка\n",
      "простаты\n",
      "соломоновичем\n",
      "беременности\n",
      "врачами-травматологами\n",
      "\n",
      "6\n"
     ]
    },
    {
     "name": "stderr",
     "output_type": "stream",
     "text": [
      "/Library/Frameworks/Python.framework/Versions/3.6/lib/python3.6/site-packages/ipykernel_launcher.py:11: DeprecationWarning: Call to deprecated `__getitem__` (Method will be removed in 4.0.0, use self.wv.__getitem__() instead).\n",
      "  # This is added back by InteractiveShellApp.init_path()\n"
     ]
    },
    {
     "name": "stdout",
     "output_type": "stream",
     "text": [
      "мультимиллионера\n",
      "мультимиллионерами\n",
      "мультимиллиардеров\n",
      "мультимиллиардером\n",
      "вестербайтерами\n",
      "вестербайтеры\n",
      "мужа-программиста\n",
      "соплеменника\n",
      "трактористом\n",
      "рабиновичем\n",
      "презервативы\n",
      "остановок\n",
      "мультимиллиарда\n",
      "знаменитостью\n",
      "жириновского\n",
      "\n",
      "7\n"
     ]
    },
    {
     "name": "stderr",
     "output_type": "stream",
     "text": [
      "/Library/Frameworks/Python.framework/Versions/3.6/lib/python3.6/site-packages/ipykernel_launcher.py:11: DeprecationWarning: Call to deprecated `__getitem__` (Method will be removed in 4.0.0, use self.wv.__getitem__() instead).\n",
      "  # This is added back by InteractiveShellApp.init_path()\n"
     ]
    },
    {
     "name": "stdout",
     "output_type": "stream",
     "text": [
      "старик-долгожитель\n",
      "соотечественником\n",
      "наставниками\n",
      "родственниками\n",
      "милитаристам\n",
      "терминатором\n",
      "одноклассниках\n",
      "одноклассникам\n",
      "презервативы\n",
      "разочарований\n",
      "жириновского\n",
      "презервативов\n",
      "родственники\n",
      "иваном-дураком\n",
      "маши-искусительницы\n",
      "\n",
      "8\n"
     ]
    },
    {
     "name": "stderr",
     "output_type": "stream",
     "text": [
      "/Library/Frameworks/Python.framework/Versions/3.6/lib/python3.6/site-packages/ipykernel_launcher.py:11: DeprecationWarning: Call to deprecated `__getitem__` (Method will be removed in 4.0.0, use self.wv.__getitem__() instead).\n",
      "  # This is added back by InteractiveShellApp.init_path()\n"
     ]
    },
    {
     "name": "stdout",
     "output_type": "stream",
     "text": [
      "абракобамбрашвабрмаафроамериканбраштатыроссияфрэндшипфорэвэмбра\n",
      "приятеля-автомобилиста\n",
      "скороговорки\n",
      "индейцем-проводником\n",
      "мужика-автомобилиста\n",
      "остервенением\n",
      "раскольниковых\n",
      "плевательницу\n",
      "терминатора\n",
      "соловья-насильника\n",
      "родственниками\n",
      "остановок\n",
      "рабиновичей\n",
      "подсрачники\n",
      "перепутьи\n",
      "\n",
      "9\n"
     ]
    },
    {
     "name": "stderr",
     "output_type": "stream",
     "text": [
      "/Library/Frameworks/Python.framework/Versions/3.6/lib/python3.6/site-packages/ipykernel_launcher.py:11: DeprecationWarning: Call to deprecated `__getitem__` (Method will be removed in 4.0.0, use self.wv.__getitem__() instead).\n",
      "  # This is added back by InteractiveShellApp.init_path()\n"
     ]
    },
    {
     "name": "stdout",
     "output_type": "stream",
     "text": [
      "родителей-железнодорожников\n",
      "переспрашивания\n",
      "беспаспортанцев\n",
      "контрабандист-смертинк\n",
      "издевательства\n",
      "полицейские-интеллектуалы\n",
      "недополицейский\n",
      "продовольствием\n",
      "сторонники\n",
      "пограничника\n",
      "жириновского\n",
      "доброумышленники\n",
      "карманника-рецидивиста\n",
      "родственники\n",
      "домогательствах\n",
      "\n",
      "10\n"
     ]
    },
    {
     "name": "stderr",
     "output_type": "stream",
     "text": [
      "/Library/Frameworks/Python.framework/Versions/3.6/lib/python3.6/site-packages/ipykernel_launcher.py:11: DeprecationWarning: Call to deprecated `__getitem__` (Method will be removed in 4.0.0, use self.wv.__getitem__() instead).\n",
      "  # This is added back by InteractiveShellApp.init_path()\n"
     ]
    },
    {
     "name": "stdout",
     "output_type": "stream",
     "text": [
      "программистов\n",
      "программистом\n",
      "стенографирования\n",
      "мульти-триллионером\n",
      "стикеры-напоминалки\n",
      "одноклассниках\n",
      "программиста\n",
      "программисты\n",
      "прослушивания\n",
      "програмисты\n",
      "программисту\n",
      "производительности\n",
      "интернет-зависимость\n",
      "отпрыску-тинейджеру\n",
      "электричества\n",
      "\n",
      "11\n"
     ]
    },
    {
     "name": "stderr",
     "output_type": "stream",
     "text": [
      "/Library/Frameworks/Python.framework/Versions/3.6/lib/python3.6/site-packages/ipykernel_launcher.py:11: DeprecationWarning: Call to deprecated `__getitem__` (Method will be removed in 4.0.0, use self.wv.__getitem__() instead).\n",
      "  # This is added back by InteractiveShellApp.init_path()\n"
     ]
    },
    {
     "name": "stdout",
     "output_type": "stream",
     "text": [
      "соотечественниками\n",
      "соотечественника\n",
      "интернационалистами\n",
      "анатольевич-первое\n",
      "политкорректности\n",
      "талисманопроизводители\n",
      "сторонниками\n",
      "предостережения\n",
      "действительности\n",
      "протестантов\n",
      "последователей\n",
      "правители-клептократы\n",
      "интернационализме\n",
      "презервативов\n",
      "последовательности\n",
      "\n",
      "12\n"
     ]
    },
    {
     "name": "stderr",
     "output_type": "stream",
     "text": [
      "/Library/Frameworks/Python.framework/Versions/3.6/lib/python3.6/site-packages/ipykernel_launcher.py:11: DeprecationWarning: Call to deprecated `__getitem__` (Method will be removed in 4.0.0, use self.wv.__getitem__() instead).\n",
      "  # This is added back by InteractiveShellApp.init_path()\n"
     ]
    },
    {
     "name": "stdout",
     "output_type": "stream",
     "text": [
      "учёными-экспериментаторами\n",
      "справочник-путеводитель\n",
      "индификатором\n",
      "действительности\n",
      "следователи\n",
      "презервативов\n",
      "простаты\n",
      "банальности\n",
      "родственниками\n",
      "видеокомпроматы\n",
      "одноклассниками\n",
      "презервативом\n",
      "рационализаторов\n",
      "одновременноё\n",
      "видеорегистраторе\n",
      "\n",
      "13\n"
     ]
    },
    {
     "name": "stderr",
     "output_type": "stream",
     "text": [
      "/Library/Frameworks/Python.framework/Versions/3.6/lib/python3.6/site-packages/ipykernel_launcher.py:11: DeprecationWarning: Call to deprecated `__getitem__` (Method will be removed in 4.0.0, use self.wv.__getitem__() instead).\n",
      "  # This is added back by InteractiveShellApp.init_path()\n"
     ]
    },
    {
     "name": "stdout",
     "output_type": "stream",
     "text": [
      "пользователей-милиционеров\n",
      "предусмотрительности\n",
      "распостранителем\n",
      "политкорректности\n",
      "частности\n",
      "следователи\n",
      "постановлением\n",
      "издевательски\n",
      "презервативов\n",
      "центризберкоме\n",
      "видео-регистратором\n",
      "предательству\n",
      "разбирательств\n",
      "соотечественников\n",
      "сторонником\n",
      "\n",
      "14\n"
     ]
    },
    {
     "name": "stderr",
     "output_type": "stream",
     "text": [
      "/Library/Frameworks/Python.framework/Versions/3.6/lib/python3.6/site-packages/ipykernel_launcher.py:11: DeprecationWarning: Call to deprecated `__getitem__` (Method will be removed in 4.0.0, use self.wv.__getitem__() instead).\n",
      "  # This is added back by InteractiveShellApp.init_path()\n"
     ]
    },
    {
     "name": "stdout",
     "output_type": "stream",
     "text": [
      "пенсионерка-экстремалка\n",
      "мать-перемать\n",
      "остервенением\n",
      "страус-клаустрофоб\n",
      "белка-клаустрофоб\n",
      "подворотню\n",
      "просыпается-дров\n",
      "передника\n",
      "головоломку\n",
      "анатольевичем\n",
      "подворотне\n",
      "матроску\n",
      "подельнику\n",
      "теребоньканья\n",
      "сандаликами\n",
      "\n",
      "15\n"
     ]
    },
    {
     "name": "stderr",
     "output_type": "stream",
     "text": [
      "/Library/Frameworks/Python.framework/Versions/3.6/lib/python3.6/site-packages/ipykernel_launcher.py:11: DeprecationWarning: Call to deprecated `__getitem__` (Method will be removed in 4.0.0, use self.wv.__getitem__() instead).\n",
      "  # This is added back by InteractiveShellApp.init_path()\n"
     ]
    },
    {
     "name": "stdout",
     "output_type": "stream",
     "text": [
      "перфекционистом\n",
      "родственниками\n",
      "видеорегистратором\n",
      "перфекционисты\n",
      "водителя-новичка\n",
      "бесполезно-не\n",
      "переполненом\n",
      "презервативов\n",
      "презервативы\n",
      "одноклассниках\n",
      "странностями\n",
      "т-т-т-терминатор\n",
      "экстравертом\n",
      "сказочниками\n",
      "ангела-хранителя\n",
      "\n",
      "16\n"
     ]
    },
    {
     "name": "stderr",
     "output_type": "stream",
     "text": [
      "/Library/Frameworks/Python.framework/Versions/3.6/lib/python3.6/site-packages/ipykernel_launcher.py:11: DeprecationWarning: Call to deprecated `__getitem__` (Method will be removed in 4.0.0, use self.wv.__getitem__() instead).\n",
      "  # This is added back by InteractiveShellApp.init_path()\n"
     ]
    },
    {
     "name": "stdout",
     "output_type": "stream",
     "text": [
      "подружек-следователей\n",
      "толковательнице\n",
      "последователи\n",
      "градоначальника\n",
      "политкорректности\n",
      "соотечественником\n",
      "подстрекательстве\n",
      "родственниками\n",
      "современники\n",
      "откровенности\n",
      "ставленника\n",
      "сериалахождение\n",
      "представительницами\n",
      "партиейединолюдовисправедлюдов\n",
      "следователи\n",
      "\n",
      "17\n"
     ]
    },
    {
     "name": "stderr",
     "output_type": "stream",
     "text": [
      "/Library/Frameworks/Python.framework/Versions/3.6/lib/python3.6/site-packages/ipykernel_launcher.py:11: DeprecationWarning: Call to deprecated `__getitem__` (Method will be removed in 4.0.0, use self.wv.__getitem__() instead).\n",
      "  # This is added back by InteractiveShellApp.init_path()\n"
     ]
    },
    {
     "name": "stdout",
     "output_type": "stream",
     "text": [
      "гамбурга-вегетарианец\n",
      "подорожником\n",
      "большезадомшевелин\n",
      "варениками\n",
      "морепродуктов\n",
      "евроморковки\n",
      "заменителей\n",
      "презервативом\n",
      "посетительнице\n",
      "рабиновичей\n",
      "кхолодильникунеподходин\n",
      "укропаспортом\n",
      "презервативов\n",
      "деликатесом\n",
      "папоротника\n",
      "\n",
      "18\n"
     ]
    },
    {
     "name": "stderr",
     "output_type": "stream",
     "text": [
      "/Library/Frameworks/Python.framework/Versions/3.6/lib/python3.6/site-packages/ipykernel_launcher.py:11: DeprecationWarning: Call to deprecated `__getitem__` (Method will be removed in 4.0.0, use self.wv.__getitem__() instead).\n",
      "  # This is added back by InteractiveShellApp.init_path()\n"
     ]
    },
    {
     "name": "stdout",
     "output_type": "stream",
     "text": [
      "политкорректности\n",
      "женоненавистники\n",
      "презервативы\n",
      "миллионер-качок-подкаблучник\n",
      "недостатками\n",
      "придурковатость\n",
      "презервативов\n",
      "простаты\n",
      "джентельменства\n",
      "действительности\n",
      "маркетологов-женщин\n",
      "блондинка-недотрога\n",
      "одноклассниках\n",
      "уверенности\n",
      "беременности\n",
      "\n",
      "19\n"
     ]
    },
    {
     "name": "stderr",
     "output_type": "stream",
     "text": [
      "/Library/Frameworks/Python.framework/Versions/3.6/lib/python3.6/site-packages/ipykernel_launcher.py:11: DeprecationWarning: Call to deprecated `__getitem__` (Method will be removed in 4.0.0, use self.wv.__getitem__() instead).\n",
      "  # This is added back by InteractiveShellApp.init_path()\n"
     ]
    },
    {
     "name": "stdout",
     "output_type": "stream",
     "text": [
      "знаменитости\n",
      "шотландец-чревовещатель\n",
      "политкоретности\n",
      "родоначальником\n",
      "великобритании\n",
      "простолюдина-англичанина\n",
      "оранжевоволосоамериканец\n",
      "аргентинец-трансвестит\n",
      "знаменитостей\n",
      "демонстрантами\n",
      "американизмам\n",
      "пограничника\n",
      "презервативы\n",
      "мальчика-наследника\n",
      "рукоплесканиями\n",
      "\n",
      "20\n"
     ]
    },
    {
     "name": "stderr",
     "output_type": "stream",
     "text": [
      "/Library/Frameworks/Python.framework/Versions/3.6/lib/python3.6/site-packages/ipykernel_launcher.py:11: DeprecationWarning: Call to deprecated `__getitem__` (Method will be removed in 4.0.0, use self.wv.__getitem__() instead).\n",
      "  # This is added back by InteractiveShellApp.init_path()\n"
     ]
    },
    {
     "name": "stdout",
     "output_type": "stream",
     "text": [
      "долгожительству\n",
      "остервенением\n",
      "компанией-триллионером\n",
      "презервативов\n",
      "центробанкам-эмитентам\n",
      "остановок\n",
      "тотализаторе\n",
      "экономистов-реформаторов\n",
      "автомобилепотребления\n",
      "презервативы\n",
      "родителей-пенсионеров\n",
      "доларовый\n",
      "перепроизводства\n",
      "финансистов\n",
      "старуху-проценшицу\n",
      "\n",
      "21\n"
     ]
    },
    {
     "name": "stderr",
     "output_type": "stream",
     "text": [
      "/Library/Frameworks/Python.framework/Versions/3.6/lib/python3.6/site-packages/ipykernel_launcher.py:11: DeprecationWarning: Call to deprecated `__getitem__` (Method will be removed in 4.0.0, use self.wv.__getitem__() instead).\n",
      "  # This is added back by InteractiveShellApp.init_path()\n"
     ]
    },
    {
     "name": "stdout",
     "output_type": "stream",
     "text": [
      "программистка-индивидуалка\n",
      "неосмотрительности\n",
      "продавцом-консультантом\n",
      "трудоголиком-инженером\n",
      "экспрессионистов\n",
      "программистов\n",
      "частности\n",
      "презервативов\n",
      "сутенёры-трудоголики\n",
      "учёные-криминалисты\n",
      "работоголиков\n",
      "парень-маркетолог\n",
      "администратора\n",
      "понедельника\n",
      "начальниками\n",
      "\n",
      "22\n"
     ]
    },
    {
     "name": "stderr",
     "output_type": "stream",
     "text": [
      "/Library/Frameworks/Python.framework/Versions/3.6/lib/python3.6/site-packages/ipykernel_launcher.py:11: DeprecationWarning: Call to deprecated `__getitem__` (Method will be removed in 4.0.0, use self.wv.__getitem__() instead).\n",
      "  # This is added back by InteractiveShellApp.init_path()\n"
     ]
    },
    {
     "name": "stdout",
     "output_type": "stream",
     "text": [
      "очередности\n",
      "колесниковым\n",
      "городе-побратиме\n",
      "пограничниками\n",
      "последователи\n",
      "терминатора\n",
      "соотечественники\n",
      "роботы-трансформеры-десептиконы\n",
      "жара-напоминание\n",
      "градоначальником\n",
      "передовиками\n",
      "достопримечьятельностей\n",
      "передовицами\n",
      "пролетариату\n",
      "трактористы\n",
      "\n",
      "23\n"
     ]
    },
    {
     "name": "stderr",
     "output_type": "stream",
     "text": [
      "/Library/Frameworks/Python.framework/Versions/3.6/lib/python3.6/site-packages/ipykernel_launcher.py:11: DeprecationWarning: Call to deprecated `__getitem__` (Method will be removed in 4.0.0, use self.wv.__getitem__() instead).\n",
      "  # This is added back by InteractiveShellApp.init_path()\n"
     ]
    },
    {
     "name": "stdout",
     "output_type": "stream",
     "text": [
      "пока-еще-действующего-президента\n",
      "политкорректности\n",
      "очковтирательством\n",
      "безответственности\n",
      "чиновниками-ворами\n",
      "националистом\n",
      "патернализмом\n",
      "правозащитниками\n",
      "крепостных-бюджетников\n",
      "следователи\n",
      "тотализаторе\n",
      "бандительство\n",
      "призывников-уклонистов\n",
      "крысятничество\n",
      "издевательством\n",
      "\n",
      "24\n"
     ]
    },
    {
     "name": "stderr",
     "output_type": "stream",
     "text": [
      "/Library/Frameworks/Python.framework/Versions/3.6/lib/python3.6/site-packages/ipykernel_launcher.py:11: DeprecationWarning: Call to deprecated `__getitem__` (Method will be removed in 4.0.0, use self.wv.__getitem__() instead).\n",
      "  # This is added back by InteractiveShellApp.init_path()\n"
     ]
    },
    {
     "name": "stdout",
     "output_type": "stream",
     "text": [
      "продавцу-з-з-завесте\n",
      "терминатором\n",
      "терминатора\n",
      "покупательнице\n",
      "мужа-программиста\n",
      "продавца-консультанта\n",
      "покупатель-хохол\n",
      "презервативов\n",
      "покупательницам\n",
      "покупательниц\n",
      "уговариват\n",
      "расточительности\n",
      "презервативы\n",
      "владивостока\n",
      "потребительниц\n",
      "\n",
      "25\n"
     ]
    },
    {
     "name": "stderr",
     "output_type": "stream",
     "text": [
      "/Library/Frameworks/Python.framework/Versions/3.6/lib/python3.6/site-packages/ipykernel_launcher.py:11: DeprecationWarning: Call to deprecated `__getitem__` (Method will be removed in 4.0.0, use self.wv.__getitem__() instead).\n",
      "  # This is added back by InteractiveShellApp.init_path()\n"
     ]
    },
    {
     "name": "stdout",
     "output_type": "stream",
     "text": [
      "проказница-мартышка\n",
      "одноклассниками\n",
      "старушка-потрошительница\n",
      "король-эксгибиционист\n",
      "мальчика-наркомана\n",
      "садомахохисты-сладкоежки\n",
      "настенькиной\n",
      "настенька-мизинчик\n",
      "одноклассниках\n",
      "матроску\n",
      "пастернака\n",
      "гномики-штангисты\n",
      "просторам\n",
      "сестрица-аленушка\n",
      "настенькина\n",
      "\n",
      "26\n"
     ]
    },
    {
     "name": "stderr",
     "output_type": "stream",
     "text": [
      "/Library/Frameworks/Python.framework/Versions/3.6/lib/python3.6/site-packages/ipykernel_launcher.py:11: DeprecationWarning: Call to deprecated `__getitem__` (Method will be removed in 4.0.0, use self.wv.__getitem__() instead).\n",
      "  # This is added back by InteractiveShellApp.init_path()\n"
     ]
    },
    {
     "name": "stdout",
     "output_type": "stream",
     "text": [
      "страну-производителя\n",
      "распространители\n",
      "трактористов\n",
      "ученые-метрополисологи\n",
      "видеорегистратором\n",
      "автопроизводителей\n",
      "метростроители-клаустрофобы\n",
      "автопроизводители\n",
      "терминатора\n",
      "примечательностью\n",
      "серегу-плиточника\n",
      "частности\n",
      "фальшивомонетчик-профессионал\n",
      "рационализаторы\n",
      "интеллектоборонсервис\n",
      "\n",
      "27\n"
     ]
    },
    {
     "name": "stderr",
     "output_type": "stream",
     "text": [
      "/Library/Frameworks/Python.framework/Versions/3.6/lib/python3.6/site-packages/ipykernel_launcher.py:11: DeprecationWarning: Call to deprecated `__getitem__` (Method will be removed in 4.0.0, use self.wv.__getitem__() instead).\n",
      "  # This is added back by InteractiveShellApp.init_path()\n"
     ]
    },
    {
     "name": "stdout",
     "output_type": "stream",
     "text": [
      "иностранца-автомобилиста\n",
      "пассажирам-участникам\n",
      "издевательски\n",
      "магнитогорска\n",
      "остановок\n",
      "скороговорки\n",
      "петровичем\n",
      "водитель-то\n",
      "бронетраспортера\n",
      "калининград-владивосток\n",
      "владивостока\n",
      "днепропетровщине\n",
      "приятелю-мотоциклисту\n",
      "железнодорожникам\n",
      "водители-дальнобойщики\n",
      "\n",
      "28\n"
     ]
    },
    {
     "name": "stderr",
     "output_type": "stream",
     "text": [
      "/Library/Frameworks/Python.framework/Versions/3.6/lib/python3.6/site-packages/ipykernel_launcher.py:11: DeprecationWarning: Call to deprecated `__getitem__` (Method will be removed in 4.0.0, use self.wv.__getitem__() instead).\n",
      "  # This is added back by InteractiveShellApp.init_path()\n"
     ]
    },
    {
     "name": "stdout",
     "output_type": "stream",
     "text": [
      "тушканчики-шпагоглотатели\n",
      "череззаборногузадерищенко\n",
      "череззаборногуперекидышкин\n",
      "колесниковым\n",
      "издевательски\n",
      "соседи-металлисты\n",
      "пастернака\n",
      "потапову\n",
      "чивизднеркильмаскишбрунгер\n",
      "полицейскому-оборотень\n",
      "атлантикой-пассажирам\n",
      "карлика-медведева\n",
      "анатольича\n",
      "женой-каратисткой\n",
      "соображений\n",
      "\n",
      "29\n"
     ]
    },
    {
     "name": "stderr",
     "output_type": "stream",
     "text": [
      "/Library/Frameworks/Python.framework/Versions/3.6/lib/python3.6/site-packages/ipykernel_launcher.py:11: DeprecationWarning: Call to deprecated `__getitem__` (Method will be removed in 4.0.0, use self.wv.__getitem__() instead).\n",
      "  # This is added back by InteractiveShellApp.init_path()\n"
     ]
    },
    {
     "name": "stdout",
     "output_type": "stream",
     "text": [
      "судопроизводственников\n",
      "частности\n",
      "усовершенствования\n",
      "соотечественники\n",
      "котировок-министерство\n",
      "действительности\n",
      "бумаготворительность\n",
      "неорганизованностью\n",
      "государственно-частное\n",
      "медлительности\n",
      "превосходительством\n",
      "государственно-частного\n",
      "соотечественников\n",
      "благотворительностью\n",
      "презервативов\n",
      "\n",
      "30\n"
     ]
    },
    {
     "name": "stderr",
     "output_type": "stream",
     "text": [
      "/Library/Frameworks/Python.framework/Versions/3.6/lib/python3.6/site-packages/ipykernel_launcher.py:11: DeprecationWarning: Call to deprecated `__getitem__` (Method will be removed in 4.0.0, use self.wv.__getitem__() instead).\n",
      "  # This is added back by InteractiveShellApp.init_path()\n"
     ]
    },
    {
     "name": "stdout",
     "output_type": "stream",
     "text": [
      "папа-программист\n",
      "рабинович-то\n",
      "разочарованием\n",
      "анатольича\n",
      "одноклассника\n",
      "знаменитостей\n",
      "кинематографисты\n",
      "интернет-переписка\n",
      "шестеренках\n",
      "придуренкови\n",
      "сценариста\n",
      "жириновского\n",
      "идиотов-телепузиков\n",
      "товарищами\n",
      "виссарионовичу\n",
      "\n",
      "31\n"
     ]
    },
    {
     "name": "stderr",
     "output_type": "stream",
     "text": [
      "/Library/Frameworks/Python.framework/Versions/3.6/lib/python3.6/site-packages/ipykernel_launcher.py:11: DeprecationWarning: Call to deprecated `__getitem__` (Method will be removed in 4.0.0, use self.wv.__getitem__() instead).\n",
      "  # This is added back by InteractiveShellApp.init_path()\n"
     ]
    },
    {
     "name": "stdout",
     "output_type": "stream",
     "text": [
      "приходит-аккомулятора\n",
      "электросаксафон\n",
      "тринитросульфидопропилена\n",
      "поворотником\n",
      "презервативом\n",
      "видеорегистраторов\n",
      "поворотника\n",
      "осторожности\n",
      "презервативов\n",
      "стопарение\n",
      "автопроизводители\n",
      "неосторожности\n",
      "остановками\n",
      "полутораспальная\n",
      "настопиздела\n",
      "\n",
      "32\n"
     ]
    },
    {
     "name": "stderr",
     "output_type": "stream",
     "text": [
      "/Library/Frameworks/Python.framework/Versions/3.6/lib/python3.6/site-packages/ipykernel_launcher.py:11: DeprecationWarning: Call to deprecated `__getitem__` (Method will be removed in 4.0.0, use self.wv.__getitem__() instead).\n",
      "  # This is added back by InteractiveShellApp.init_path()\n"
     ]
    },
    {
     "name": "stdout",
     "output_type": "stream",
     "text": [
      "товарищам-единомышленникам\n",
      "членами-корреспондентами\n",
      "аликманкишиоглыбердыкилимандыбатырбекову\n",
      "бездельников-строителей\n",
      "градоначальником\n",
      "владимировичем\n",
      "зоо-течественники\n",
      "перестановок\n",
      "родоначальником\n",
      "спасателей-профессионалов\n",
      "александровича\n",
      "днепропетровска\n",
      "трактористам\n",
      "журавлеведения\n",
      "анатольевичем\n",
      "\n",
      "33\n"
     ]
    },
    {
     "name": "stderr",
     "output_type": "stream",
     "text": [
      "/Library/Frameworks/Python.framework/Versions/3.6/lib/python3.6/site-packages/ipykernel_launcher.py:11: DeprecationWarning: Call to deprecated `__getitem__` (Method will be removed in 4.0.0, use self.wv.__getitem__() instead).\n",
      "  # This is added back by InteractiveShellApp.init_path()\n"
     ]
    },
    {
     "name": "stdout",
     "output_type": "stream",
     "text": [
      "соотечественником\n",
      "страной-бензоколонкой\n",
      "стран-организаторов\n",
      "подстрекательстве\n",
      "государством-агрессором\n",
      "интернационалистов\n",
      "коллаборационисты\n",
      "контроллера-американца\n",
      "соотечественников\n",
      "отпускники-оплаченцы-шахтёры-трактористы\n",
      "страна-победительница\n",
      "налогоплатильщиков\n",
      "великобритании\n",
      "негодованием\n",
      "истребителя-невидимки\n",
      "\n",
      "34\n"
     ]
    },
    {
     "name": "stderr",
     "output_type": "stream",
     "text": [
      "/Library/Frameworks/Python.framework/Versions/3.6/lib/python3.6/site-packages/ipykernel_launcher.py:11: DeprecationWarning: Call to deprecated `__getitem__` (Method will be removed in 4.0.0, use self.wv.__getitem__() instead).\n",
      "  # This is added back by InteractiveShellApp.init_path()\n"
     ]
    },
    {
     "name": "stdout",
     "output_type": "stream",
     "text": [
      "константиновны\n",
      "товарищами\n",
      "водолазом-глубоководником\n",
      "понедельником\n",
      "предатели\n",
      "изванить\n",
      "удовольствием\n",
      "понедельника\n",
      "напоминанием\n",
      "преферансистов\n",
      "петровича\n",
      "астрахани\n",
      "жизнерадостности\n",
      "проституток\n",
      "бездельнику\n",
      "\n",
      "35\n"
     ]
    },
    {
     "name": "stderr",
     "output_type": "stream",
     "text": [
      "/Library/Frameworks/Python.framework/Versions/3.6/lib/python3.6/site-packages/ipykernel_launcher.py:11: DeprecationWarning: Call to deprecated `__getitem__` (Method will be removed in 4.0.0, use self.wv.__getitem__() instead).\n",
      "  # This is added back by InteractiveShellApp.init_path()\n"
     ]
    },
    {
     "name": "stdout",
     "output_type": "stream",
     "text": [
      "историко-эротическаго\n",
      "безобразности\n",
      "доминошниками\n",
      "ребенка-инопланетянина\n",
      "политкорректности\n",
      "знаменитости\n",
      "натуралиста\n",
      "соображений\n",
      "валентиновича\n",
      "достопримечательностью\n",
      "стереотеливозоров\n",
      "распространителей\n",
      "остановок\n",
      "презервативов\n",
      "мини-стервство\n",
      "\n",
      "36\n"
     ]
    },
    {
     "name": "stderr",
     "output_type": "stream",
     "text": [
      "/Library/Frameworks/Python.framework/Versions/3.6/lib/python3.6/site-packages/ipykernel_launcher.py:11: DeprecationWarning: Call to deprecated `__getitem__` (Method will be removed in 4.0.0, use self.wv.__getitem__() instead).\n",
      "  # This is added back by InteractiveShellApp.init_path()\n"
     ]
    },
    {
     "name": "stdout",
     "output_type": "stream",
     "text": [
      "женщина-надежду\n",
      "девственница-нимфоманка\n",
      "подкаблучника\n",
      "обдумать-женщина\n",
      "политкорректности\n",
      "мужчинам-водителям\n",
      "непристойности\n",
      "женщин-моделей\n",
      "женщина-загадка\n",
      "удовольствием\n",
      "материалистом\n",
      "недотроги\n",
      "мать-одиночка\n",
      "собеседника\n",
      "любовником\n",
      "\n",
      "37\n"
     ]
    },
    {
     "name": "stderr",
     "output_type": "stream",
     "text": [
      "/Library/Frameworks/Python.framework/Versions/3.6/lib/python3.6/site-packages/ipykernel_launcher.py:11: DeprecationWarning: Call to deprecated `__getitem__` (Method will be removed in 4.0.0, use self.wv.__getitem__() instead).\n",
      "  # This is added back by InteractiveShellApp.init_path()\n"
     ]
    },
    {
     "name": "stdout",
     "output_type": "stream",
     "text": [
      "трухспринтодинокрузианусфен\n",
      "перфекционист-похуист\n",
      "мезинтросгрупигруздоперинотинат\n",
      "сверхудовольствие\n",
      "нупридумайчтонибудьсама\n",
      "человека-с-автобусом-в-заднице\n",
      "удовольствием\n",
      "одноклассниках\n",
      "презервативы\n",
      "презервативов\n",
      "сына-проказника\n",
      "родственники\n",
      "уверенности\n",
      "презервативе\n",
      "удовольствий\n",
      "\n",
      "38\n"
     ]
    },
    {
     "name": "stderr",
     "output_type": "stream",
     "text": [
      "/Library/Frameworks/Python.framework/Versions/3.6/lib/python3.6/site-packages/ipykernel_launcher.py:11: DeprecationWarning: Call to deprecated `__getitem__` (Method will be removed in 4.0.0, use self.wv.__getitem__() instead).\n",
      "  # This is added back by InteractiveShellApp.init_path()\n"
     ]
    },
    {
     "name": "stdout",
     "output_type": "stream",
     "text": [
      "преподавательницы\n",
      "преподователем\n",
      "преподавательницу\n",
      "астрофизик-профессор-интеллигент\n",
      "начальника-гребуна\n",
      "преподавателей\n",
      "преподаватели\n",
      "переводчик-профессионал\n",
      "благотворительности\n",
      "преподавателем\n",
      "действительности\n",
      "убедительности\n",
      "частности\n",
      "наставления\n",
      "презервативов\n",
      "\n",
      "39\n"
     ]
    },
    {
     "name": "stderr",
     "output_type": "stream",
     "text": [
      "/Library/Frameworks/Python.framework/Versions/3.6/lib/python3.6/site-packages/ipykernel_launcher.py:11: DeprecationWarning: Call to deprecated `__getitem__` (Method will be removed in 4.0.0, use self.wv.__getitem__() instead).\n",
      "  # This is added back by InteractiveShellApp.init_path()\n"
     ]
    },
    {
     "name": "stdout",
     "output_type": "stream",
     "text": [
      "министрами-теневиками\n",
      "матрешками-президентами\n",
      "президент-твиттерист\n",
      "телегина-григьян-капительман\n",
      "президентам-ворам\n",
      "президенту-алкоголику\n",
      "президента-негра\n",
      "владимировичем\n",
      "парапрезидент\n",
      "президентом-придурком\n",
      "медведев-ходорковский\n",
      "жириновского\n",
      "президент-коммерсант\n",
      "преферансистов\n",
      "жириновскому\n",
      "\n",
      "40\n"
     ]
    },
    {
     "name": "stderr",
     "output_type": "stream",
     "text": [
      "/Library/Frameworks/Python.framework/Versions/3.6/lib/python3.6/site-packages/ipykernel_launcher.py:11: DeprecationWarning: Call to deprecated `__getitem__` (Method will be removed in 4.0.0, use self.wv.__getitem__() instead).\n",
      "  # This is added back by InteractiveShellApp.init_path()\n"
     ]
    },
    {
     "name": "stdout",
     "output_type": "stream",
     "text": [
      "парень-презерватив-девушка\n",
      "любовник-клаустрофоб\n",
      "невеста-проститутка\n",
      "одноклассницами\n",
      "джентельменов\n",
      "мясник-романтик\n",
      "москвички-блондинки\n",
      "человек-невидимка\n",
      "гетеросексуала-продюсера-еврея\n",
      "подругу-блондинку\n",
      "разочарований\n",
      "девственницами\n",
      "открытки-валентинки\n",
      "красавец-любовник\n",
      "недотрогами\n",
      "\n",
      "41\n"
     ]
    },
    {
     "name": "stderr",
     "output_type": "stream",
     "text": [
      "/Library/Frameworks/Python.framework/Versions/3.6/lib/python3.6/site-packages/ipykernel_launcher.py:11: DeprecationWarning: Call to deprecated `__getitem__` (Method will be removed in 4.0.0, use self.wv.__getitem__() instead).\n",
      "  # This is added back by InteractiveShellApp.init_path()\n"
     ]
    },
    {
     "name": "stdout",
     "output_type": "stream",
     "text": [
      "константиновны\n",
      "пременно-батенька\n",
      "простонародии\n",
      "константина\n",
      "протестантов\n",
      "родственниками\n",
      "ангелы-хранители\n",
      "последователей\n",
      "ангела-хранителя\n",
      "единорогов\n",
      "противоположностей\n",
      "простынь-самодранка\n",
      "бессребреником\n",
      "настоятельнице\n",
      "приятелем-историком\n",
      "\n",
      "42\n"
     ]
    },
    {
     "name": "stderr",
     "output_type": "stream",
     "text": [
      "/Library/Frameworks/Python.framework/Versions/3.6/lib/python3.6/site-packages/ipykernel_launcher.py:11: DeprecationWarning: Call to deprecated `__getitem__` (Method will be removed in 4.0.0, use self.wv.__getitem__() instead).\n",
      "  # This is added back by InteractiveShellApp.init_path()\n"
     ]
    },
    {
     "name": "stdout",
     "output_type": "stream",
     "text": [
      "раскольниковым\n",
      "политкорректности\n",
      "гей-пассивистами\n",
      "наплевательски\n",
      "предпочтениесчастливчику\n",
      "наперсточниками\n",
      "современника\n",
      "следователи\n",
      "презервативов\n",
      "революционерам-простакам\n",
      "презервативы\n",
      "презервативом\n",
      "гуда-трудоголика\n",
      "перестановкой\n",
      "соображений\n",
      "\n",
      "43\n"
     ]
    },
    {
     "name": "stderr",
     "output_type": "stream",
     "text": [
      "/Library/Frameworks/Python.framework/Versions/3.6/lib/python3.6/site-packages/ipykernel_launcher.py:11: DeprecationWarning: Call to deprecated `__getitem__` (Method will be removed in 4.0.0, use self.wv.__getitem__() instead).\n",
      "  # This is added back by InteractiveShellApp.init_path()\n"
     ]
    },
    {
     "name": "stdout",
     "output_type": "stream",
     "text": [
      "константиновны\n",
      "константина\n",
      "черного-пречереного\n",
      "соотечественники\n",
      "родоначальником\n",
      "семеновича\n",
      "смирнову-сокольскому\n",
      "тинаканделакивидение\n",
      "градоначальники\n",
      "борисовны\n",
      "иванькова-япончика\n",
      "александровны\n",
      "станиславского\n",
      "анатольевне\n",
      "журавли-чиновники\n",
      "\n",
      "44\n"
     ]
    },
    {
     "name": "stderr",
     "output_type": "stream",
     "text": [
      "/Library/Frameworks/Python.framework/Versions/3.6/lib/python3.6/site-packages/ipykernel_launcher.py:11: DeprecationWarning: Call to deprecated `__getitem__` (Method will be removed in 4.0.0, use self.wv.__getitem__() instead).\n",
      "  # This is added back by InteractiveShellApp.init_path()\n"
     ]
    },
    {
     "name": "stdout",
     "output_type": "stream",
     "text": [
      "соотечественниками\n",
      "терминатор-жесть\n",
      "соотечествиникам\n",
      "соотечественника\n",
      "соотечествинники\n",
      "перестановок\n",
      "распространители\n",
      "напоминалку-приглашение\n",
      "знаменитости\n",
      "терминатором\n",
      "мужем-иностранцем\n",
      "импрессионистов\n",
      "терминатора\n",
      "распостранителей\n",
      "борисовичем\n",
      "\n",
      "45\n"
     ]
    },
    {
     "name": "stderr",
     "output_type": "stream",
     "text": [
      "/Library/Frameworks/Python.framework/Versions/3.6/lib/python3.6/site-packages/ipykernel_launcher.py:11: DeprecationWarning: Call to deprecated `__getitem__` (Method will be removed in 4.0.0, use self.wv.__getitem__() instead).\n",
      "  # This is added back by InteractiveShellApp.init_path()\n"
     ]
    },
    {
     "name": "stdout",
     "output_type": "stream",
     "text": [
      "самодостаточности\n",
      "политкорректности\n",
      "последовательности\n",
      "сообразительности\n",
      "сообразительностью\n",
      "простаты\n",
      "презервативом\n",
      "знакопеременность\n",
      "презервативов\n",
      "следователи\n",
      "полиорганометаллосилоксаном\n",
      "банкиров-вредителей\n",
      "простатита\n",
      "нано-презервативы\n",
      "частности\n",
      "\n",
      "46\n"
     ]
    },
    {
     "name": "stderr",
     "output_type": "stream",
     "text": [
      "/Library/Frameworks/Python.framework/Versions/3.6/lib/python3.6/site-packages/ipykernel_launcher.py:11: DeprecationWarning: Call to deprecated `__getitem__` (Method will be removed in 4.0.0, use self.wv.__getitem__() instead).\n",
      "  # This is added back by InteractiveShellApp.init_path()\n"
     ]
    },
    {
     "name": "stdout",
     "output_type": "stream",
     "text": [
      "женоненавистником\n",
      "бесцеремонности\n",
      "терминатором\n",
      "придурковатости\n",
      "рабиновичей\n",
      "супернаглость\n",
      "предатели\n",
      "единорогов\n",
      "человек-невидимка\n",
      "медведтрезвитель\n",
      "одноклассниках\n",
      "родственники\n",
      "подкаблучники\n",
      "подкаблучника\n",
      "вожделением\n",
      "\n",
      "47\n"
     ]
    },
    {
     "name": "stderr",
     "output_type": "stream",
     "text": [
      "/Library/Frameworks/Python.framework/Versions/3.6/lib/python3.6/site-packages/ipykernel_launcher.py:11: DeprecationWarning: Call to deprecated `__getitem__` (Method will be removed in 4.0.0, use self.wv.__getitem__() instead).\n",
      "  # This is added back by InteractiveShellApp.init_path()\n"
     ]
    },
    {
     "name": "stdout",
     "output_type": "stream",
     "text": [
      "растеренности\n",
      "перфекционистов\n",
      "политкорректности\n",
      "остервенением\n",
      "оно-приспосабливаться-не\n",
      "решительноенаступление\n",
      "сверхосторожность\n",
      "мужа-программиста\n",
      "подорожника\n",
      "воображением\n",
      "презервативом\n",
      "действительности\n",
      "презервативы\n",
      "прокрастинации\n",
      "петровичем\n",
      "\n",
      "48\n"
     ]
    },
    {
     "name": "stderr",
     "output_type": "stream",
     "text": [
      "/Library/Frameworks/Python.framework/Versions/3.6/lib/python3.6/site-packages/ipykernel_launcher.py:11: DeprecationWarning: Call to deprecated `__getitem__` (Method will be removed in 4.0.0, use self.wv.__getitem__() instead).\n",
      "  # This is added back by InteractiveShellApp.init_path()\n"
     ]
    },
    {
     "name": "stdout",
     "output_type": "stream",
     "text": [
      "империалистами-колонизаторами\n",
      "перестаните\n",
      "соотечественникам\n",
      "политкорректности\n",
      "протестантов\n",
      "провокаторами\n",
      "вестербайтеров\n",
      "сторонники\n",
      "национал-предатели\n",
      "бессовестностью\n",
      "очернительства\n",
      "осведомители\n",
      "чекистами-патриотами\n",
      "националистом\n",
      "предатели\n",
      "\n",
      "49\n"
     ]
    },
    {
     "name": "stderr",
     "output_type": "stream",
     "text": [
      "/Library/Frameworks/Python.framework/Versions/3.6/lib/python3.6/site-packages/ipykernel_launcher.py:11: DeprecationWarning: Call to deprecated `__getitem__` (Method will be removed in 4.0.0, use self.wv.__getitem__() instead).\n",
      "  # This is added back by InteractiveShellApp.init_path()\n"
     ]
    },
    {
     "name": "stdout",
     "output_type": "stream",
     "text": [
      "политкорректности\n",
      "перфекционист-экзистенциалист\n",
      "действительности\n",
      "подозрительностью\n",
      "рассудительности\n",
      "последовательности\n",
      "сторонниками\n",
      "признательности\n",
      "противоположности\n",
      "противоположностей\n",
      "сообразительностью\n",
      "неполниценности\n",
      "невнимательности\n",
      "действительностью\n",
      "родственниками\n",
      "\n"
     ]
    }
   ],
   "source": [
    "for c in range(50):\n",
    "    print(c)\n",
    "    print(cluster_top_based_on_equclidian_distance(c))\n",
    "    print()"
   ]
  },
  {
   "cell_type": "code",
   "execution_count": 35,
   "metadata": {},
   "outputs": [],
   "source": [
    "pd.DataFrame({'label' : model.labels_}).to_csv('labels.csv', index=False)"
   ]
  },
  {
   "cell_type": "code",
   "execution_count": 38,
   "metadata": {},
   "outputs": [
    {
     "data": {
      "text/plain": [
       "(50,)"
      ]
     },
     "execution_count": 38,
     "metadata": {},
     "output_type": "execute_result"
    }
   ],
   "source": [
    "a = pd.read_csv('labels.csv')\n",
    "a.label.unique().shape"
   ]
  },
  {
   "cell_type": "code",
   "execution_count": 39,
   "metadata": {},
   "outputs": [
    {
     "data": {
      "text/html": [
       "<div>\n",
       "<style scoped>\n",
       "    .dataframe tbody tr th:only-of-type {\n",
       "        vertical-align: middle;\n",
       "    }\n",
       "\n",
       "    .dataframe tbody tr th {\n",
       "        vertical-align: top;\n",
       "    }\n",
       "\n",
       "    .dataframe thead th {\n",
       "        text-align: right;\n",
       "    }\n",
       "</style>\n",
       "<table border=\"1\" class=\"dataframe\">\n",
       "  <thead>\n",
       "    <tr style=\"text-align: right;\">\n",
       "      <th></th>\n",
       "      <th>joke_text</th>\n",
       "      <th>cluster_id</th>\n",
       "    </tr>\n",
       "  </thead>\n",
       "  <tbody>\n",
       "    <tr>\n",
       "      <th>0</th>\n",
       "      <td>Мужчину трудно задеть за живое, но уж если зад...</td>\n",
       "      <td>18</td>\n",
       "    </tr>\n",
       "    <tr>\n",
       "      <th>1</th>\n",
       "      <td>В нашем кемпинге строго запрещено людям разног...</td>\n",
       "      <td>18</td>\n",
       "    </tr>\n",
       "    <tr>\n",
       "      <th>2</th>\n",
       "      <td>А как хорошо у девушек начинается: любимый: ми...</td>\n",
       "      <td>25</td>\n",
       "    </tr>\n",
       "    <tr>\n",
       "      <th>3</th>\n",
       "      <td>Только у нас фраза \"поправить здоровье\" означа...</td>\n",
       "      <td>16</td>\n",
       "    </tr>\n",
       "    <tr>\n",
       "      <th>4</th>\n",
       "      <td>Одна белка случайно попробовала пиво и поняла,...</td>\n",
       "      <td>30</td>\n",
       "    </tr>\n",
       "    <tr>\n",
       "      <th>5</th>\n",
       "      <td>ОБЪЯВЛЕНИЕ На время мирового финансового кризи...</td>\n",
       "      <td>29</td>\n",
       "    </tr>\n",
       "    <tr>\n",
       "      <th>6</th>\n",
       "      <td>Мужчина рассматривает тест на беременность, и ...</td>\n",
       "      <td>18</td>\n",
       "    </tr>\n",
       "    <tr>\n",
       "      <th>7</th>\n",
       "      <td>Таможенники в ступоре: никак не могут решить, ...</td>\n",
       "      <td>9</td>\n",
       "    </tr>\n",
       "    <tr>\n",
       "      <th>8</th>\n",
       "      <td>Есть какая-то двусмысленность в подписях на фо...</td>\n",
       "      <td>11</td>\n",
       "    </tr>\n",
       "    <tr>\n",
       "      <th>9</th>\n",
       "      <td>На театральной тусовке артисты театра Куклачев...</td>\n",
       "      <td>43</td>\n",
       "    </tr>\n",
       "  </tbody>\n",
       "</table>\n",
       "</div>"
      ],
      "text/plain": [
       "                                           joke_text  cluster_id\n",
       "0  Мужчину трудно задеть за живое, но уж если зад...          18\n",
       "1  В нашем кемпинге строго запрещено людям разног...          18\n",
       "2  А как хорошо у девушек начинается: любимый: ми...          25\n",
       "3  Только у нас фраза \"поправить здоровье\" означа...          16\n",
       "4  Одна белка случайно попробовала пиво и поняла,...          30\n",
       "5  ОБЪЯВЛЕНИЕ На время мирового финансового кризи...          29\n",
       "6  Мужчина рассматривает тест на беременность, и ...          18\n",
       "7  Таможенники в ступоре: никак не могут решить, ...           9\n",
       "8  Есть какая-то двусмысленность в подписях на фо...          11\n",
       "9  На театральной тусовке артисты театра Куклачев...          43"
      ]
     },
     "execution_count": 39,
     "metadata": {},
     "output_type": "execute_result"
    }
   ],
   "source": [
    "jokes.head(10)"
   ]
  },
  {
   "cell_type": "markdown",
   "metadata": {},
   "source": [
    "0 - ирония (повезло ??!?) 2466\n",
    "1 - праздники и алкоголь (немного зашумлен)  2011\n",
    "2 - спорт 1685\n",
    "3 - ШУМ 4611\n",
    "4 - пошлость, ШУМ 1057\n",
    "5 - медицина, шутки про врачей 1964\n",
    "6 - деньги 1773\n",
    "7 - ШУМ  3023\n",
    "8 - ШУМ 5746\n",
    "9 - евреи + милиция + ШУМ 2711\n",
    "10 - IT 573\n",
    "11 - политика + менталитет + ШУМ 3289\n",
    "12 - ШУМ 2875\n",
    "13 - политика + чиновники 2684\n",
    "14 - ШУМ 3325\n",
    "15 - ШУМ 4027\n",
    "16 - алкоголь + ШУМ 4756\n",
    "17 - еда + связанное с ней\n",
    "18 - сортирный юмор + отношения\n",
    "19 - национальности\n",
    "20 - экономика\n",
    "21 - деньги + IT\n",
    "22 - космос + ШУМ\n",
    "23 - чиновники + коррупция\n",
    "24 - купля-продажа\n",
    "25 - отношения + семья\n",
    "26 - ШУМ\n",
    "27 - дорожное движение + ШУМ\n",
    "28 - ШУМ + игра слова\n",
    "29 - бизнес\n",
    "30 - про анекдоты + ШУМ\n",
    "31 - армия + ШУМ\n",
    "32 - политика + ШУМ\n",
    "33 - Россия (национальность)\n",
    "34 - ШУМ 2620\n",
    "35 - ШУМ 3779\n",
    "36 - пол (м/ж)\n",
    "37 - пол (м/ж) + ШУМ\n",
    "38 - образование 1925\n",
    "39 - политика 2492\n",
    "40 - пол 2578\n",
    "41 - Россия + ШУМ\n",
    "42 - ШУМ 3941\n",
    "43 - ирония (повезло ??!?)\n",
    "44 - ШУМ 3568\n",
    "45 - за жизнь\n",
    "46 - ирония + ШУМ 3643\n",
    "47 - ШУМ 3791\n",
    "48 - международные отношения\n",
    "49 - пол (м/ж) + ШУМ"
   ]
  },
  {
   "cell_type": "code",
   "execution_count": 50,
   "metadata": {},
   "outputs": [
    {
     "name": "stdout",
     "output_type": "stream",
     "text": [
      "- И всё-таки время - субстанция материальная! - Мужики, давно сидите? - Литр!\n",
      "\n",
      "- Для физических лиц у нас достаточно предъявить паспорт. Вы физическое лицо? - Нет, я астральное тело...\n",
      "\n",
      "Британские учёные доказали, что кастрюля борща продлевает брак на сутки.\n",
      "\n",
      "- Чем отличается Дума от цирка? - В Думе все представления закрытые.\n",
      "\n",
      "В этом году Россию ждут большие перемены: племена майя - не ЦИК, могли и правильно посчитать.\n",
      "\n",
      "Гаишник, который пять лет просидел с радаром в кустах, приобрёл способность к фотосинтезу.\n",
      "\n",
      "подскажите что делать: Сын растёт тряпкой - собственной жизненной позиции не имеет, от мамы не отлипает, ничего не делает - даже лень голову от кровати поднять. возраст 7 дней.\n",
      "\n",
      "Стечение обстоятельств образовало лужу, в которой барахталось несколько человек.\n",
      "\n",
      "Супрематизм - неповторимые лексические обороты сантехника Петрова, вступившего в собачье дерьмо.\n",
      "\n",
      "У нас в стране даже черту бедности надо переходить в строго отведенном месте.\n",
      "\n"
     ]
    }
   ],
   "source": [
    "idx = 45\n",
    "vals = jokes[jokes.cluster_id == idx].sample(10).joke_text.values\n",
    "for v in vals:\n",
    "    print(v)\n",
    "    print()"
   ]
  },
  {
   "cell_type": "markdown",
   "metadata": {},
   "source": [
    "взять фильтрованные шутки\n",
    "\n",
    "1) TSNE для того, что есть<br>\n",
    "2) иерархическая кластеризация для ШУМОВЫХ кластеров<br>\n",
    "3) используем классификатор на рубрики, смотрим насколько имя кластера соответствует классу, который дал классификатор<br>\n",
    "4) попробовать разные способы нормализации векторов предложений<br>\n",
    "5) распределение слова Штирлиц"
   ]
  },
  {
   "cell_type": "code",
   "execution_count": null,
   "metadata": {},
   "outputs": [],
   "source": []
  }
 ],
 "metadata": {
  "kernelspec": {
   "display_name": "Python 3",
   "language": "python",
   "name": "python3"
  },
  "language_info": {
   "codemirror_mode": {
    "name": "ipython",
    "version": 3
   },
   "file_extension": ".py",
   "mimetype": "text/x-python",
   "name": "python",
   "nbconvert_exporter": "python",
   "pygments_lexer": "ipython3",
   "version": "3.6.2"
  }
 },
 "nbformat": 4,
 "nbformat_minor": 2
}
