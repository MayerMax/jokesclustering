{
 "cells": [
  {
   "cell_type": "code",
   "execution_count": 6,
   "metadata": {},
   "outputs": [],
   "source": [
    "import sys\n",
    "import pandas as pd\n",
    "import numpy as np\n",
    "import pickle\n",
    "\n",
    "sys.path.append('/home/denra/git/ml/researches/jokesclustering/') # ваш путь до корня проекта\n",
    "from vector_clustering.models.kmeans_fasttext.components import FasttextVectorizer, KmeansSimpleClusterExtractor\n",
    "from vector_clustering.abstract.model import Model\n",
    "from vector_clustering.data.manager import (get_jokes_as_dataframe, load_pandas_csv, load, ARANEUM_FASTTEXT, \n",
    "                                            load_pickle, dump_pickle)\n",
    "from sklearn.cluster import KMeans\n",
    "from sklearn.externals import joblib"
   ]
  },
  {
   "cell_type": "code",
   "execution_count": 2,
   "metadata": {},
   "outputs": [
    {
     "data": {
      "text/plain": [
       "'/home/denra/git/ml/researches/jokesclustering/vector_clustering/research'"
      ]
     },
     "execution_count": 2,
     "metadata": {},
     "output_type": "execute_result"
    }
   ],
   "source": [
    "pwd"
   ]
  },
  {
   "cell_type": "code",
   "execution_count": 37,
   "metadata": {},
   "outputs": [],
   "source": [
    "# jokes_vectors = load_pickle('vectors.pkl')\n",
    "# max_kmeans = joblib.load('knn_fasttext.pkl')\n",
    "\n",
    "jokes = get_jokes_as_dataframe('jokes.json')\n",
    "vectorizer = FasttextVectorizer()\n",
    "\n",
    "# jokes['cluster_id'] = max_kmeans.predict(jokes_vectors)"
   ]
  },
  {
   "cell_type": "code",
   "execution_count": 42,
   "metadata": {},
   "outputs": [],
   "source": [
    "vectors = vectorizer.fit(jokes.joke_text.values)"
   ]
  },
  {
   "cell_type": "code",
   "execution_count": 43,
   "metadata": {},
   "outputs": [
    {
     "data": {
      "text/plain": [
       "(136338, 300)"
      ]
     },
     "execution_count": 43,
     "metadata": {},
     "output_type": "execute_result"
    }
   ],
   "source": [
    "joblib.dump('vectors.pkl')"
   ]
  },
  {
   "cell_type": "code",
   "execution_count": 30,
   "metadata": {},
   "outputs": [
    {
     "data": {
      "text/plain": [
       "array(['- Государь Кот, там мыши спрашивают - чем сегодня мзду приносить? - Скажите - я сегодня сыт. Пусть не мздят.',\n",
       "       'Veni, vidi, vici - пришёл, увидел, победил. Аз, буки, веди - идёшь и ищешь выпивку.',\n",
       "       'Две подруги после новогодних каникул: - Ну как Новый Год встретила? - Очень даже неплохо. Ты знаешь, пятерых Дедов Морозов заказывала, четверо сбежали, а один не успел, я ему дорогу перегородила, бороду и шубу сорвала, теперь у меня будет жить до восьмого марта!',\n",
       "       'Не поеду я в этом году на Кипр. В прошлом году не поехал в Таиланд, в позапрошлом - в Египет. На следующий год не знаю, куда не поеду...',\n",
       "       'Из новостей: Путин сказал, что нового кризиса не будет! Как?!? Опять не будет?!? Только недавно же не было!!!'],\n",
       "      dtype=object)"
      ]
     },
     "execution_count": 30,
     "metadata": {},
     "output_type": "execute_result"
    }
   ],
   "source": [
    "jokes[jokes.cluster_id == 1].sample(5).joke_text.values"
   ]
  },
  {
   "cell_type": "code",
   "execution_count": null,
   "metadata": {},
   "outputs": [],
   "source": []
  },
  {
   "cell_type": "markdown",
   "metadata": {},
   "source": [
    "## Extended Agglomerative\n",
    "[source](https://stackoverflow.com/questions/46027996/why-doesnt-sklearn-cluster-agglomerativeclustering-give-us-the-distances-betwee)"
   ]
  },
  {
   "cell_type": "code",
   "execution_count": null,
   "metadata": {},
   "outputs": [],
   "source": []
  },
  {
   "cell_type": "code",
   "execution_count": 47,
   "metadata": {},
   "outputs": [
    {
     "data": {
      "text/plain": [
       "array([[ 1.04829186,  5.03092408],\n",
       "       [-1.72056742,  2.76673089],\n",
       "       [ 1.13280393,  3.87673946],\n",
       "       [ 2.13274123,  1.08674492],\n",
       "       [ 3.19014483,  0.17048082],\n",
       "       [-2.0511805 ,  2.20787329],\n",
       "       [-2.38003911,  3.89326996],\n",
       "       [ 1.61137465, -0.09273457],\n",
       "       [ 0.92466065,  4.50908658],\n",
       "       [ 1.45131429,  4.22810872],\n",
       "       [ 2.82165713,  1.63234304],\n",
       "       [ 1.72330962,  4.2012082 ],\n",
       "       [ 0.77877261,  1.22447296],\n",
       "       [ 2.07814678,  0.80407173],\n",
       "       [ 1.35678894,  4.36462484],\n",
       "       [-1.7817301 ,  2.69884511],\n",
       "       [-0.91175867,  3.51907219],\n",
       "       [-1.70086009,  2.99605675],\n",
       "       [ 2.48748562,  0.52658115],\n",
       "       [ 1.19820169,  4.47062449]])"
      ]
     },
     "execution_count": 47,
     "metadata": {},
     "output_type": "execute_result"
    }
   ],
   "source": [
    "X"
   ]
  },
  {
   "cell_type": "code",
   "execution_count": 56,
   "metadata": {},
   "outputs": [
    {
     "data": {
      "image/png": "[encoded data removed]",
      "text/plain": [
       "<matplotlib.figure.Figure at 0x7f736785f400>"
      ]
     },
     "metadata": {},
     "output_type": "display_data"
    }
   ],
   "source": [
    "plt.plot(range(19), Z.T[2])\n",
    "pass"
   ]
  },
  {
   "cell_type": "code",
   "execution_count": 51,
   "metadata": {},
   "outputs": [
    {
     "data": {
      "image/png": "[encoded data removed]",
      "text/plain": [
       "<matplotlib.figure.Figure at 0x7f7366c442b0>"
      ]
     },
     "metadata": {},
     "output_type": "display_data"
    }
   ],
   "source": [
    "from scipy.cluster.hierarchy import linkage, fcluster, dendrogram\n",
    "from sklearn.datasets import make_blobs\n",
    "import matplotlib.pyplot as plt\n",
    "%matplotlib inline  \n",
    "\n",
    "X, cl = make_blobs(n_samples=20, n_features=2, centers=3, cluster_std=0.5, random_state=0)\n",
    "Z = linkage(X, method='ward')\n",
    "\n",
    "plt.figure()\n",
    "dendrogram(Z)\n",
    "plt.show()"
   ]
  },
  {
   "cell_type": "code",
   "execution_count": 81,
   "metadata": {},
   "outputs": [
    {
     "data": {
      "image/png": "[encoded data removed]",
      "text/plain": [
       "<matplotlib.figure.Figure at 0x7f73798fde48>"
      ]
     },
     "metadata": {},
     "output_type": "display_data"
    }
   ],
   "source": [
    "dendrogram_values = dendrogram(Z)"
   ]
  },
  {
   "cell_type": "code",
   "execution_count": 83,
   "metadata": {},
   "outputs": [
    {
     "data": {
      "text/plain": [
       "19"
      ]
     },
     "execution_count": 83,
     "metadata": {},
     "output_type": "execute_result"
    }
   ],
   "source": [
    "len(dendrogram_values['color_list'])"
   ]
  },
  {
   "cell_type": "code",
   "execution_count": null,
   "metadata": {},
   "outputs": [],
   "source": []
  },
  {
   "cell_type": "code",
   "execution_count": null,
   "metadata": {},
   "outputs": [],
   "source": []
  },
  {
   "cell_type": "markdown",
   "metadata": {},
   "source": [
    "## Implementation"
   ]
  },
  {
   "cell_type": "code",
   "execution_count": 79,
   "metadata": {},
   "outputs": [
    {
     "ename": "IndentationError",
     "evalue": "expected an indented block (<ipython-input-79-236b18e4f6dd>, line 50)",
     "output_type": "error",
     "traceback": [
      "\u001b[0;36m  File \u001b[0;32m\"<ipython-input-79-236b18e4f6dd>\"\u001b[0;36m, line \u001b[0;32m50\u001b[0m\n\u001b[0;31m    return\u001b[0m\n\u001b[0m         ^\u001b[0m\n\u001b[0;31mIndentationError\u001b[0m\u001b[0;31m:\u001b[0m expected an indented block\n"
     ]
    }
   ],
   "source": [
    "from typing import List, Union, Dict, Callable\n",
    "\n",
    "from scipy.cluster.hierarchy import linkage, fcluster, dendrogram\n",
    "from sklearn.datasets import make_blobs\n",
    "import matplotlib.pyplot as plt\n",
    "import numpy\n",
    "\n",
    "from vector_clustering.abstract.abstract_cluster_extractor import AbstractClusterExtractor\n",
    "from vector_clustering.abstract.model import Model\n",
    "from vector_clustering.data.manager import load, ARANEUM_FASTTEXT\n",
    "\n",
    "\n",
    "class ExtendedAgglomerativeClusterExtractor(AbstractClusterExtractor):\n",
    "    def __init__(self, pruning_threshold: float, affinity: Union[str, Callable]='euclidean', linkage: str='ward'):\n",
    "        \"\"\"\n",
    "        Реализует иерархическую агломеративную кластеризацию.\n",
    "        \n",
    "        :param pruning_threshold: процентиль пороговое значение изменения расстояния между кластерами, \n",
    "                                  после которого прекращается нарастание кластеров\n",
    "        :param affinity: норма пространства\n",
    "        :param linkage: метрика для измерения расстояния между кластерами\n",
    "        \n",
    "        Подробнее про affinity и linkage:\n",
    "          1. https://docs.scipy.org/doc/scipy/reference/generated/scipy.cluster.hierarchy.linkage.html#scipy.cluster.hierarchy.linkage\n",
    "          2. https://scikit-learn.org/stable/modules/generated/sklearn.cluster.AgglomerativeClustering.html\n",
    "        \"\"\"\n",
    "        super().__init__()\n",
    "        \n",
    "        self.affinity = affinity\n",
    "        self.linkage = linkage\n",
    "        self.pruning_threshold = pruning_threshold  # Также можно обрубать по слишком большому кол-ву присоединенных объектов\n",
    "        self.best_iteration = None\n",
    "        self.vectors = None\n",
    "        self.labels_ = None\n",
    "\n",
    "    def fit(self, vectors: numpy.ndarray):\n",
    "        self.vectors = vectors\n",
    "        self.linkage_matrix = linkage(vectors, metric=self.affinity, method=self.linkage)\n",
    "        \n",
    "        self.prune_tree()\n",
    "        self.predict_labels()\n",
    "\n",
    "    def predict_labels(self):\n",
    "        dendrogram_values = dendrogram(Z)  # todo: без отрисовки\n",
    "        clusters_ids, color_list = {}, dendrogram_values['color_list']\n",
    "        \n",
    "        \n",
    "        next_label, n = 0, self.vectors.shape[0]\n",
    "        self.labels_ = [None for _ in range(2 * n - 1)]  # Т.к. в худшем случае новых \"клатеров\" n - 1\n",
    "        # todo\n",
    "        for i, iter_result in enumerate(self.linkage_matrix):\n",
    "            if i == self.best_iteration:\n",
    "                for j in range(n):\n",
    "                    if self.labels_[j] is None:\n",
    "                        self.labels_[j] = next_label\n",
    "                        next_label += 1\n",
    "                return\n",
    "            if clusters_ids.get(color_list[])\n",
    "            \n",
    "            obj_a, obj_b = int(iter_result[0]), int(iter_result[1])\n",
    "            if obj_a is None and obj_b is None:\n",
    "                self.labels_[obj_a] = next_label\n",
    "                self.labels_[obj_b] = next_label\n",
    "                self.labels_[n + next_label] = next_label\n",
    "                next_label += 1\n",
    "            elif obj_a is not None:\n",
    "                self.labels_[obj_a] = self.labels_[obj_b]\n",
    "            elif obj_b is not None:\n",
    "                self.labels_[obj_a] = self.labels_[obj_b]\n",
    "            else:\n",
    "    \n",
    "    def get_id(self, color, clusters_ids, next_label):\n",
    "        ret\n",
    "\n",
    "    def predict_by_nearest(self):\n",
    "        raise NotImplemeted\n",
    "    \n",
    "    def prune_tree(self):\n",
    "        distances = self.__linkage_matrix.T[2]\n",
    "        diffs = [abs(distances[i] - distances[i + 1]) for i in range(len(distances) - 1)]\n",
    "        diffs_sum = sum(diffs)\n",
    "        \n",
    "        for i, diff in enumerate(diffs):\n",
    "            if diff / diff * 100 >= self.pruning_threshold:\n",
    "                self.best_iteration = i - 1  # Обработать ситуацию <= 0\n",
    "    \n",
    "    def plot_dendrogram(self):\n",
    "        return dendrogram(self.linkage_matrix)\n",
    "    \n",
    "    def plot_iteration_distance_dependency(self, iter_count: int):\n",
    "        \"\"\"\n",
    "        :param iter_count: 1 <= iter_count <= len(vectors) - 1\n",
    "        \"\"\"\n",
    "        return plt.plot(range(iter_count), self.linkage_matrix.T[2])\n",
    "        \n",
    "    def demo(self, n_examples, texts=None) -> Dict[Union[str, int], List[str]]:\n",
    "        labels = self.__model.labels_\n",
    "        demo_set = {label_id : [] for label_id in range(self.__model.cluster_centers_.shape[0])}\n",
    "        for label_id in demo_set:\n",
    "            satisfy_texts = texts[labels == label_id]\n",
    "            demo_set[label_id] = satisfy_texts[0:min(n_examples, satisfy_texts.shape[0])]\n",
    "        return demo_set\n",
    "\n",
    "    def get_model(self):\n",
    "        return self\n",
    "\n",
    "\n",
    "# if __name__ == '__main__':\n",
    "#     texts = numpy.array(['my name is max', 'your name is max'])\n",
    "#     vectorizer = FasttextVectorizer()\n",
    "#     cluster_extractor = KmeansSimpleClusterExtractor()\n",
    "\n",
    "#     m = Model(vectorizer, cluster_extractor)\n",
    "#     print(m.fit(texts))"
   ]
  },
  {
   "cell_type": "code",
   "execution_count": null,
   "metadata": {},
   "outputs": [],
   "source": []
  }
 ],
 "metadata": {
  "kernelspec": {
   "display_name": "Python 3",
   "language": "python",
   "name": "python3"
  },
  "language_info": {
   "codemirror_mode": {
    "name": "ipython",
    "version": 3
   },
   "file_extension": ".py",
   "mimetype": "text/x-python",
   "name": "python",
   "nbconvert_exporter": "python",
   "pygments_lexer": "ipython3",
   "version": "3.6.6"
  }
 },
 "nbformat": 4,
 "nbformat_minor": 2
}
